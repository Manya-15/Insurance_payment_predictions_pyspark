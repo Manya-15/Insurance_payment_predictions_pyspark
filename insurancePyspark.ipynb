{
  "nbformat": 4,
  "nbformat_minor": 0,
  "metadata": {
    "colab": {
      "provenance": []
    },
    "kernelspec": {
      "name": "python3",
      "display_name": "Python 3"
    },
    "language_info": {
      "name": "python"
    }
  },
  "cells": [
    {
      "cell_type": "code",
      "execution_count": null,
      "metadata": {
        "id": "8ydJ7iCe2_Xu"
      },
      "outputs": [],
      "source": [
        "from pyspark.sql import SparkSession\n",
        "from pyspark.ml.stat import Correlation\n",
        "import pyspark.sql.functions as F"
      ]
    },
    {
      "cell_type": "code",
      "source": [
        "spark = SparkSession.builder.getOrCreate()"
      ],
      "metadata": {
        "id": "Q5WpCcCZ3T9T"
      },
      "execution_count": null,
      "outputs": []
    },
    {
      "cell_type": "markdown",
      "source": [
        "##Data Analysis"
      ],
      "metadata": {
        "id": "C4lRuH6A4itL"
      }
    },
    {
      "cell_type": "code",
      "source": [
        "df = spark.read.csv(\"/content/drive/MyDrive/train.csv\", inferSchema=True,\n",
        "                   header=True)\n",
        "df"
      ],
      "metadata": {
        "colab": {
          "base_uri": "https://localhost:8080/"
        },
        "id": "gcFNOJVyFhe8",
        "outputId": "5de6f85c-704d-401e-e2f6-807133e34f0c"
      },
      "execution_count": null,
      "outputs": [
        {
          "output_type": "execute_result",
          "data": {
            "text/plain": [
              "DataFrame[id: int, perc_premium_paid_by_cash_credit: double, age_in_days: int, Income: int, Count_3-6_months_late: int, Count_6-12_months_late: int, Count_more_than_12_months_late: int, application_underwriting_score: double, no_of_premiums_paid: int, sourcing_channel: string, residence_area_type: string, premium: int, target: int]"
            ]
          },
          "metadata": {},
          "execution_count": 8
        }
      ]
    },
    {
      "cell_type": "code",
      "source": [
        "df.show()"
      ],
      "metadata": {
        "colab": {
          "base_uri": "https://localhost:8080/"
        },
        "id": "ikHiWKXlFnJS",
        "outputId": "9fadf3a8-b179-4a1b-b1ab-bec14baacd39"
      },
      "execution_count": null,
      "outputs": [
        {
          "output_type": "stream",
          "name": "stdout",
          "text": [
            "+------+--------------------------------+-----------+------+---------------------+----------------------+------------------------------+------------------------------+-------------------+----------------+-------------------+-------+------+\n",
            "|    id|perc_premium_paid_by_cash_credit|age_in_days|Income|Count_3-6_months_late|Count_6-12_months_late|Count_more_than_12_months_late|application_underwriting_score|no_of_premiums_paid|sourcing_channel|residence_area_type|premium|target|\n",
            "+------+--------------------------------+-----------+------+---------------------+----------------------+------------------------------+------------------------------+-------------------+----------------+-------------------+-------+------+\n",
            "|110936|                           0.429|      12058|355060|                    0|                     0|                             0|                         99.02|                 13|               C|              Urban|   3300|     1|\n",
            "| 41492|                            0.01|      21546|315150|                    0|                     0|                             0|                         99.89|                 21|               A|              Urban|  18000|     1|\n",
            "| 31300|                           0.917|      17531| 84140|                    2|                     3|                             1|                         98.69|                  7|               C|              Rural|   3300|     0|\n",
            "| 19415|                           0.049|      15341|250510|                    0|                     0|                             0|                         99.57|                  9|               A|              Urban|   9600|     1|\n",
            "| 99379|                           0.052|      31400|198680|                    0|                     0|                             0|                         99.87|                 12|               B|              Urban|   9600|     1|\n",
            "| 59951|                            0.54|      17527|282080|                    2|                     0|                             0|                         99.18|                  9|               B|              Rural|  22200|     1|\n",
            "| 54031|                             1.0|      24829|118400|                    0|                     0|                             0|                         99.05|                 11|               B|              Urban|   7500|     1|\n",
            "| 94290|                             1.0|      21911|180240|                    1|                     6|                             4|                         99.33|                  3|               A|              Urban|   9600|     0|\n",
            "| 93730|                           0.621|       9868| 92520|                    0|                     0|                             0|                         99.58|                  4|               A|              Urban|   7500|     1|\n",
            "| 84844|                           0.908|      23008|107180|                    2|                     0|                             0|                         98.91|                 11|               A|              Rural|   5400|     0|\n",
            "| 87400|                           0.051|      17529|200100|                    1|                     0|                             0|                         98.66|                 22|               C|              Rural|   1200|     1|\n",
            "| 51808|                           0.033|      16075|122060|                    0|                     0|                             0|                         97.03|                  7|               B|              Urban|   1200|     1|\n",
            "|104167|                             1.0|      16436| 27290|                    1|                     0|                             1|                         98.32|                  4|               A|              Urban|   1200|     1|\n",
            "| 52420|                           0.111|      19723|136000|                    0|                     0|                             0|                         99.59|                  9|               A|              Urban|  11700|     1|\n",
            "| 42421|                           0.027|      16430|114110|                    0|                     0|                             1|                          98.7|                 13|               D|              Urban|   7500|     1|\n",
            "| 91820|                           0.963|      12788| 90140|                    1|                     0|                             0|                         99.06|                  9|               A|              Urban|   5400|     1|\n",
            "| 64685|                           0.055|      23010|410310|                    0|                     0|                             0|                         99.66|                 10|               A|              Urban|  18000|     1|\n",
            "| 60263|                           0.125|      22639|315110|                    0|                     0|                             0|                         99.31|                 14|               A|              Rural|   3300|     1|\n",
            "| 68260|                           0.012|      16433| 87530|                    0|                     0|                             0|                          NULL|                  5|               A|              Rural|   3300|     1|\n",
            "|  4043|                             0.0|      11687|152610|                    1|                     2|                             1|                         99.53|                  5|               C|              Urban|   9600|     0|\n",
            "+------+--------------------------------+-----------+------+---------------------+----------------------+------------------------------+------------------------------+-------------------+----------------+-------------------+-------+------+\n",
            "only showing top 20 rows\n",
            "\n"
          ]
        }
      ]
    },
    {
      "cell_type": "code",
      "source": [
        "df.count()"
      ],
      "metadata": {
        "colab": {
          "base_uri": "https://localhost:8080/"
        },
        "id": "AVvyXrIlG8_i",
        "outputId": "7a401ef4-aeae-4770-929b-8d44e710c975"
      },
      "execution_count": null,
      "outputs": [
        {
          "output_type": "execute_result",
          "data": {
            "text/plain": [
              "79853"
            ]
          },
          "metadata": {},
          "execution_count": 10
        }
      ]
    },
    {
      "cell_type": "code",
      "source": [
        "len(df.columns)"
      ],
      "metadata": {
        "colab": {
          "base_uri": "https://localhost:8080/"
        },
        "id": "OVpbB0YFG-Y5",
        "outputId": "6e828c7a-6538-4d10-fbcb-4999657b5166"
      },
      "execution_count": null,
      "outputs": [
        {
          "output_type": "execute_result",
          "data": {
            "text/plain": [
              "13"
            ]
          },
          "metadata": {},
          "execution_count": 11
        }
      ]
    },
    {
      "cell_type": "code",
      "source": [
        "df.printSchema()"
      ],
      "metadata": {
        "colab": {
          "base_uri": "https://localhost:8080/"
        },
        "id": "rGcenJT8HDcC",
        "outputId": "09c1d5e9-0d5f-4587-dae5-1693503f6b65"
      },
      "execution_count": null,
      "outputs": [
        {
          "output_type": "stream",
          "name": "stdout",
          "text": [
            "root\n",
            " |-- id: integer (nullable = true)\n",
            " |-- perc_premium_paid_by_cash_credit: double (nullable = true)\n",
            " |-- age_in_days: integer (nullable = true)\n",
            " |-- Income: integer (nullable = true)\n",
            " |-- Count_3-6_months_late: integer (nullable = true)\n",
            " |-- Count_6-12_months_late: integer (nullable = true)\n",
            " |-- Count_more_than_12_months_late: integer (nullable = true)\n",
            " |-- application_underwriting_score: double (nullable = true)\n",
            " |-- no_of_premiums_paid: integer (nullable = true)\n",
            " |-- sourcing_channel: string (nullable = true)\n",
            " |-- residence_area_type: string (nullable = true)\n",
            " |-- premium: integer (nullable = true)\n",
            " |-- target: integer (nullable = true)\n",
            "\n"
          ]
        }
      ]
    },
    {
      "cell_type": "code",
      "source": [
        "df1 = spark.read.csv(\"/content/drive/MyDrive/test.csv\", inferSchema=True,\n",
        "                   header=True)\n",
        "df1"
      ],
      "metadata": {
        "colab": {
          "base_uri": "https://localhost:8080/"
        },
        "id": "UktwkeC_FsBx",
        "outputId": "213eae9d-e372-456d-f6b7-5a9e4a82774a"
      },
      "execution_count": null,
      "outputs": [
        {
          "output_type": "execute_result",
          "data": {
            "text/plain": [
              "DataFrame[id: int, perc_premium_paid_by_cash_credit: double, age_in_days: int, Income: int, Count_3-6_months_late: int, Count_6-12_months_late: int, Count_more_than_12_months_late: int, application_underwriting_score: double, no_of_premiums_paid: int, sourcing_channel: string, residence_area_type: string]"
            ]
          },
          "metadata": {},
          "execution_count": 6
        }
      ]
    },
    {
      "cell_type": "code",
      "source": [
        "df1.show()"
      ],
      "metadata": {
        "colab": {
          "base_uri": "https://localhost:8080/"
        },
        "id": "KWdjvhNCF31q",
        "outputId": "af56d14c-0a18-41c1-e460-bcbea5851d22"
      },
      "execution_count": null,
      "outputs": [
        {
          "output_type": "stream",
          "name": "stdout",
          "text": [
            "+------+--------------------------------+-----------+------+---------------------+----------------------+------------------------------+------------------------------+-------------------+----------------+-------------------+\n",
            "|    id|perc_premium_paid_by_cash_credit|age_in_days|Income|Count_3-6_months_late|Count_6-12_months_late|Count_more_than_12_months_late|application_underwriting_score|no_of_premiums_paid|sourcing_channel|residence_area_type|\n",
            "+------+--------------------------------+-----------+------+---------------------+----------------------+------------------------------+------------------------------+-------------------+----------------+-------------------+\n",
            "|   649|                           0.001|      27384| 51150|                    0|                     0|                             0|                         99.89|                  7|               A|              Rural|\n",
            "| 81136|                           0.124|      23735|285140|                    0|                     0|                             0|                         98.93|                 19|               A|              Urban|\n",
            "| 70762|                             1.0|      17170|186030|                    0|                     0|                             0|                          NULL|                  2|               B|              Urban|\n",
            "| 53935|                           0.198|      16068|123540|                    0|                     0|                             0|                          99.0|                 11|               B|              Rural|\n",
            "| 15476|                           0.041|      10591|200020|                    1|                     0|                             0|                         99.17|                 14|               A|              Rural|\n",
            "| 64797|                           0.112|      16065|245130|                    0|                     0|                             0|                         98.88|                  7|               B|              Rural|\n",
            "| 67412|                           0.325|      17167|388050|                    6|                     0|                             0|                          99.0|                 27|               C|              Urban|\n",
            "| 44241|                           0.362|      20085| 99880|                    3|                     0|                             0|                          98.4|                 14|               A|              Urban|\n",
            "|  5069|                           0.115|      23008|360040|                    0|                     0|                             0|                         99.88|                  6|               D|              Rural|\n",
            "| 16615|                           0.021|      21906|510040|                    0|                     0|                             0|                         99.89|                 11|               B|              Urban|\n",
            "| 84281|                           0.006|      17531|178520|                    0|                     0|                             0|                         99.03|                  9|               C|              Rural|\n",
            "| 82623|                           0.324|      23000|154430|                    0|                     0|                             0|                         98.49|                 11|               C|              Urban|\n",
            "| 86475|                           0.342|      16435|199820|                    4|                     1|                             0|                         98.33|                 11|               D|              Rural|\n",
            "| 68263|                           0.145|      14609| 27130|                    0|                     0|                             0|                          93.7|                 24|               D|              Urban|\n",
            "|113135|                           0.256|      12789| 61540|                    0|                     0|                             0|                          97.6|                 13|               B|              Rural|\n",
            "| 45532|                           0.208|      10231|375030|                    0|                     0|                             0|                         99.33|                 11|               C|              Rural|\n",
            "|102161|                           0.006|      25191|138040|                    0|                     0|                             0|                         99.62|                  7|               A|              Urban|\n",
            "| 84789|                           0.982|      16070|437570|                    1|                     0|                             4|                         99.72|                  8|               C|              Urban|\n",
            "| 62398|                           0.264|      17166|250040|                    0|                     0|                             0|                         98.85|                 15|               C|              Urban|\n",
            "| 70148|                             0.0|       8044| 27930|                    0|                     0|                             0|                          NULL|                  4|               A|              Urban|\n",
            "+------+--------------------------------+-----------+------+---------------------+----------------------+------------------------------+------------------------------+-------------------+----------------+-------------------+\n",
            "only showing top 20 rows\n",
            "\n"
          ]
        }
      ]
    },
    {
      "cell_type": "code",
      "source": [
        "df1.count()"
      ],
      "metadata": {
        "colab": {
          "base_uri": "https://localhost:8080/"
        },
        "id": "hhwHVghlGLrT",
        "outputId": "9e566a9d-d385-4bbb-e0fa-e179281981cf"
      },
      "execution_count": null,
      "outputs": [
        {
          "output_type": "execute_result",
          "data": {
            "text/plain": [
              "34224"
            ]
          },
          "metadata": {},
          "execution_count": 13
        }
      ]
    },
    {
      "cell_type": "code",
      "source": [
        "df1.printSchema()"
      ],
      "metadata": {
        "colab": {
          "base_uri": "https://localhost:8080/"
        },
        "id": "cVgVcT6xHNOK",
        "outputId": "edd9801c-8d1e-46b1-f49c-d45a9c3b048d"
      },
      "execution_count": null,
      "outputs": [
        {
          "output_type": "stream",
          "name": "stdout",
          "text": [
            "root\n",
            " |-- id: integer (nullable = true)\n",
            " |-- perc_premium_paid_by_cash_credit: double (nullable = true)\n",
            " |-- age_in_days: integer (nullable = true)\n",
            " |-- Income: integer (nullable = true)\n",
            " |-- Count_3-6_months_late: integer (nullable = true)\n",
            " |-- Count_6-12_months_late: integer (nullable = true)\n",
            " |-- Count_more_than_12_months_late: integer (nullable = true)\n",
            " |-- application_underwriting_score: double (nullable = true)\n",
            " |-- no_of_premiums_paid: integer (nullable = true)\n",
            " |-- sourcing_channel: string (nullable = true)\n",
            " |-- residence_area_type: string (nullable = true)\n",
            "\n"
          ]
        }
      ]
    },
    {
      "cell_type": "code",
      "source": [
        "len(df1.columns)"
      ],
      "metadata": {
        "colab": {
          "base_uri": "https://localhost:8080/"
        },
        "id": "BZCF-hStHRMS",
        "outputId": "f1e7cebf-d8b4-403e-b0e1-ff0b5ae7753e"
      },
      "execution_count": null,
      "outputs": [
        {
          "output_type": "execute_result",
          "data": {
            "text/plain": [
              "11"
            ]
          },
          "metadata": {},
          "execution_count": 15
        }
      ]
    },
    {
      "cell_type": "code",
      "source": [
        "df=df.drop('Premium')\n",
        "df.show()"
      ],
      "metadata": {
        "colab": {
          "base_uri": "https://localhost:8080/"
        },
        "id": "0WBoFQKpIrKT",
        "outputId": "ac1774f3-331f-45a4-c600-a74827d93648"
      },
      "execution_count": null,
      "outputs": [
        {
          "output_type": "stream",
          "name": "stdout",
          "text": [
            "+------+--------------------------------+-----------+------+---------------------+----------------------+------------------------------+------------------------------+-------------------+----------------+-------------------+------+\n",
            "|    id|perc_premium_paid_by_cash_credit|age_in_days|Income|Count_3-6_months_late|Count_6-12_months_late|Count_more_than_12_months_late|application_underwriting_score|no_of_premiums_paid|sourcing_channel|residence_area_type|target|\n",
            "+------+--------------------------------+-----------+------+---------------------+----------------------+------------------------------+------------------------------+-------------------+----------------+-------------------+------+\n",
            "|110936|                           0.429|      12058|355060|                    0|                     0|                             0|                         99.02|                 13|               C|              Urban|     1|\n",
            "| 41492|                            0.01|      21546|315150|                    0|                     0|                             0|                         99.89|                 21|               A|              Urban|     1|\n",
            "| 31300|                           0.917|      17531| 84140|                    2|                     3|                             1|                         98.69|                  7|               C|              Rural|     0|\n",
            "| 19415|                           0.049|      15341|250510|                    0|                     0|                             0|                         99.57|                  9|               A|              Urban|     1|\n",
            "| 99379|                           0.052|      31400|198680|                    0|                     0|                             0|                         99.87|                 12|               B|              Urban|     1|\n",
            "| 59951|                            0.54|      17527|282080|                    2|                     0|                             0|                         99.18|                  9|               B|              Rural|     1|\n",
            "| 54031|                             1.0|      24829|118400|                    0|                     0|                             0|                         99.05|                 11|               B|              Urban|     1|\n",
            "| 94290|                             1.0|      21911|180240|                    1|                     6|                             4|                         99.33|                  3|               A|              Urban|     0|\n",
            "| 93730|                           0.621|       9868| 92520|                    0|                     0|                             0|                         99.58|                  4|               A|              Urban|     1|\n",
            "| 84844|                           0.908|      23008|107180|                    2|                     0|                             0|                         98.91|                 11|               A|              Rural|     0|\n",
            "| 87400|                           0.051|      17529|200100|                    1|                     0|                             0|                         98.66|                 22|               C|              Rural|     1|\n",
            "| 51808|                           0.033|      16075|122060|                    0|                     0|                             0|                         97.03|                  7|               B|              Urban|     1|\n",
            "|104167|                             1.0|      16436| 27290|                    1|                     0|                             1|                         98.32|                  4|               A|              Urban|     1|\n",
            "| 52420|                           0.111|      19723|136000|                    0|                     0|                             0|                         99.59|                  9|               A|              Urban|     1|\n",
            "| 42421|                           0.027|      16430|114110|                    0|                     0|                             1|                          98.7|                 13|               D|              Urban|     1|\n",
            "| 91820|                           0.963|      12788| 90140|                    1|                     0|                             0|                         99.06|                  9|               A|              Urban|     1|\n",
            "| 64685|                           0.055|      23010|410310|                    0|                     0|                             0|                         99.66|                 10|               A|              Urban|     1|\n",
            "| 60263|                           0.125|      22639|315110|                    0|                     0|                             0|                         99.31|                 14|               A|              Rural|     1|\n",
            "| 68260|                           0.012|      16433| 87530|                    0|                     0|                             0|                          NULL|                  5|               A|              Rural|     1|\n",
            "|  4043|                             0.0|      11687|152610|                    1|                     2|                             1|                         99.53|                  5|               C|              Urban|     0|\n",
            "+------+--------------------------------+-----------+------+---------------------+----------------------+------------------------------+------------------------------+-------------------+----------------+-------------------+------+\n",
            "only showing top 20 rows\n",
            "\n"
          ]
        }
      ]
    },
    {
      "cell_type": "code",
      "source": [
        "df.groupBy(\"Count_3-6_months_late\").count().show()"
      ],
      "metadata": {
        "colab": {
          "base_uri": "https://localhost:8080/"
        },
        "id": "NA4W-c4LPSfC",
        "outputId": "3a9e9705-f1eb-4cc2-eac2-42c4143c5bec"
      },
      "execution_count": null,
      "outputs": [
        {
          "output_type": "stream",
          "name": "stdout",
          "text": [
            "+---------------------+-----+\n",
            "|Count_3-6_months_late|count|\n",
            "+---------------------+-----+\n",
            "|                   12|    1|\n",
            "|                 NULL|   97|\n",
            "|                    1| 8826|\n",
            "|                   13|    1|\n",
            "|                    6|   68|\n",
            "|                    3|  954|\n",
            "|                    5|  168|\n",
            "|                    9|    4|\n",
            "|                    4|  374|\n",
            "|                    8|   15|\n",
            "|                    7|   23|\n",
            "|                   10|    1|\n",
            "|                   11|    1|\n",
            "|                    2| 2519|\n",
            "|                    0|66801|\n",
            "+---------------------+-----+\n",
            "\n"
          ]
        }
      ]
    },
    {
      "cell_type": "code",
      "source": [
        "df.groupBy(\"Count_6-12_months_late\").count().show()"
      ],
      "metadata": {
        "colab": {
          "base_uri": "https://localhost:8080/"
        },
        "id": "hT9PRSeHPmNT",
        "outputId": "fa315d36-bf92-4d4c-e974-2ad89068cc7e"
      },
      "execution_count": null,
      "outputs": [
        {
          "output_type": "stream",
          "name": "stdout",
          "text": [
            "+----------------------+-----+\n",
            "|Count_6-12_months_late|count|\n",
            "+----------------------+-----+\n",
            "|                    12|    1|\n",
            "|                  NULL|   97|\n",
            "|                     1| 2680|\n",
            "|                    13|    2|\n",
            "|                     6|   26|\n",
            "|                     3|  317|\n",
            "|                     5|   46|\n",
            "|                    15|    1|\n",
            "|                    17|    1|\n",
            "|                     9|    4|\n",
            "|                     4|  130|\n",
            "|                     8|    5|\n",
            "|                     7|   11|\n",
            "|                    10|    4|\n",
            "|                    11|    2|\n",
            "|                    14|    2|\n",
            "|                     2|  693|\n",
            "|                     0|75831|\n",
            "+----------------------+-----+\n",
            "\n"
          ]
        }
      ]
    },
    {
      "cell_type": "code",
      "source": [
        "df.groupBy(\"Count_more_than_12_months_late\").count().show()"
      ],
      "metadata": {
        "colab": {
          "base_uri": "https://localhost:8080/"
        },
        "id": "yQBpbFOOPqtZ",
        "outputId": "b8ec4087-f00d-4cda-e91c-e859e7dc720d"
      },
      "execution_count": null,
      "outputs": [
        {
          "output_type": "stream",
          "name": "stdout",
          "text": [
            "+------------------------------+-----+\n",
            "|Count_more_than_12_months_late|count|\n",
            "+------------------------------+-----+\n",
            "|                          NULL|   97|\n",
            "|                             1| 2996|\n",
            "|                             6|    6|\n",
            "|                             3|  151|\n",
            "|                             5|   13|\n",
            "|                             4|   48|\n",
            "|                             8|    2|\n",
            "|                             7|    3|\n",
            "|                            11|    1|\n",
            "|                             2|  498|\n",
            "|                             0|76038|\n",
            "+------------------------------+-----+\n",
            "\n"
          ]
        }
      ]
    },
    {
      "cell_type": "code",
      "source": [
        "from pyspark.sql.functions import col\n",
        "\n",
        "value_counts = df.groupBy(\"target\").count().orderBy(col(\"target\"))\n",
        "value_counts.show()"
      ],
      "metadata": {
        "colab": {
          "base_uri": "https://localhost:8080/"
        },
        "id": "xdwuH_etPv5S",
        "outputId": "f360bc7e-5f37-4fed-c2cf-818631fc5997"
      },
      "execution_count": null,
      "outputs": [
        {
          "output_type": "stream",
          "name": "stdout",
          "text": [
            "+------+-----+\n",
            "|target|count|\n",
            "+------+-----+\n",
            "|     0| 4998|\n",
            "|     1|74855|\n",
            "+------+-----+\n",
            "\n"
          ]
        }
      ]
    },
    {
      "cell_type": "code",
      "source": [
        "import seaborn as sns\n",
        "import matplotlib.pyplot as plt\n",
        "\n",
        "train_pd = df.select(\"perc_premium_paid_by_cash_credit\", \"Income\").toPandas()\n",
        "\n",
        "\n",
        "sns.scatterplot(\n",
        "    x=train_pd['perc_premium_paid_by_cash_credit'],\n",
        "    y=train_pd['Income']\n",
        ")\n",
        "plt.xlabel(\"Percentage of Premium Paid by Cash/Credit\")\n",
        "plt.ylabel(\"Income\")\n",
        "plt.title(\"Scatter Plot of Cash/Credit vs Income\")\n",
        "plt.show()\n"
      ],
      "metadata": {
        "colab": {
          "base_uri": "https://localhost:8080/",
          "height": 472
        },
        "id": "oCJSci3HQoEy",
        "outputId": "30d65bb4-ada6-4777-d448-b4a149842335"
      },
      "execution_count": null,
      "outputs": [
        {
          "output_type": "display_data",
          "data": {
            "text/plain": [
              "<Figure size 640x480 with 1 Axes>"
            ],
            "image/png": "[encoded data removed]"
          },
          "metadata": {}
        }
      ]
    },
    {
      "cell_type": "markdown",
      "source": [
        "This plot shows the following:\n",
        "\n",
        "The customers who earn less than Rs 1 crore monthly as salary pay 0 to 100 % of their premium by either cash or credit card.\n",
        "The high income customers pay in range 0% to 50% of their premium by either cash or credit card.\n",
        "The customer who earns around 9 crore a month pays 0% premium either by cash or credit card.\n",
        "The customer who earns around 5 crore a month pays 20% premium by cash or credit card.\n",
        "The customer who earns over 3 crore a month pays 50% premium by cash or credit card.\n",
        "It seems the high income group must be using some other means to pay majority of their premium."
      ],
      "metadata": {
        "id": "QJ9DRND2Q7j7"
      }
    },
    {
      "cell_type": "code",
      "source": [
        "from pyspark.sql.functions import avg\n",
        "\n",
        "# Aggregate to compute the average income for each target\n",
        "avg_income = df.groupBy(\"target\").agg(avg(\"Income\").alias(\"avg_income\"))\n",
        "avg_income.show()\n",
        "\n",
        "avg_income_pd = avg_income.toPandas()\n",
        "\n",
        "sns.barplot(\n",
        "    x=avg_income_pd['target'],\n",
        "    y=avg_income_pd['avg_income'],\n",
        "    hue=avg_income_pd['target'],\n",
        "    palette='rainbow',\n",
        "    err_kws={'color': 'c', 'linewidth': 0.26},\n",
        "    legend=False\n",
        ")\n",
        "plt.xlabel(\"Target\")\n",
        "plt.ylabel(\"Average Income\")\n",
        "plt.title(\"Relationship Between Income and Target\")\n",
        "plt.show()"
      ],
      "metadata": {
        "colab": {
          "base_uri": "https://localhost:8080/",
          "height": 593
        },
        "id": "rhg4KdNxQ8sD",
        "outputId": "30cfa4fc-5dd7-43e3-d550-2d07b9d9a3db"
      },
      "execution_count": null,
      "outputs": [
        {
          "output_type": "stream",
          "name": "stdout",
          "text": [
            "+------+------------------+\n",
            "|target|        avg_income|\n",
            "+------+------------------+\n",
            "|     1|210969.65172667155|\n",
            "|     0|177058.79951980792|\n",
            "+------+------------------+\n",
            "\n"
          ]
        },
        {
          "output_type": "display_data",
          "data": {
            "text/plain": [
              "<Figure size 640x480 with 1 Axes>"
            ],
            "image/png": "[encoded data removed]"
          },
          "metadata": {}
        }
      ]
    },
    {
      "cell_type": "markdown",
      "source": [
        "This shows that the customers who earn under Rs 1,80,000 a month are the ones the insurance company should be worried about. As they are the ones who did not pay their premiums on time."
      ],
      "metadata": {
        "id": "WcNtrzuvR49i"
      }
    },
    {
      "cell_type": "code",
      "source": [
        "crosstab_result = (\n",
        "    df.groupBy(\"target\")\n",
        "    .pivot(\"residence_area_type\")\n",
        "    .count()\n",
        ")\n",
        "crosstab_result.show()"
      ],
      "metadata": {
        "colab": {
          "base_uri": "https://localhost:8080/"
        },
        "id": "T8sm5A83R5z6",
        "outputId": "5bcb6e6f-cfd6-4ad1-920f-e5b19f5b8b41"
      },
      "execution_count": null,
      "outputs": [
        {
          "output_type": "stream",
          "name": "stdout",
          "text": [
            "+------+-----+-----+\n",
            "|target|Rural|Urban|\n",
            "+------+-----+-----+\n",
            "|     1|29672|45183|\n",
            "|     0| 1998| 3000|\n",
            "+------+-----+-----+\n",
            "\n"
          ]
        }
      ]
    },
    {
      "cell_type": "markdown",
      "source": [
        "This two-way table is displaying the following:\n",
        "\n",
        "The number of customers from both rural & urban residence area type who didn't pay their premium on time & also those who payed their premium on time.\n",
        "The number 0 on the target column represents those customers who didn't pay their premium on time.\n",
        "The number 1 on the target column represents the customers who paid their premium on time.\n",
        "The Rural column is showing that there are 1,998 rural customers of the insurance company who didn't pay their premiums on time. Whereas 29,672 rural customers paid their premiums on time.\n",
        "The urban column is showing that there are 3,000 urban customers who didn't pay their premiums on time. On the other hand, there are 45,183 urban customers of the insurance company who paid their premium on time."
      ],
      "metadata": {
        "id": "qOaCoH47SLIS"
      }
    },
    {
      "cell_type": "code",
      "source": [
        "import pandas as pd\n",
        "import numpy as np\n",
        "numeric_columns = [col_name for col_name, dtype in df.dtypes if dtype in ['int', 'double']]\n",
        "\n",
        "# Compute correlations for all numeric columns\n",
        "from pyspark.sql.functions import col\n",
        "correlations = {}\n",
        "for col1 in numeric_columns:\n",
        "    row_corr = []\n",
        "    for col2 in numeric_columns:\n",
        "        corr_value = df.stat.corr(col1, col2)\n",
        "        row_corr.append(corr_value)\n",
        "    correlations[col1] = row_corr\n",
        "\n",
        "corr_matrix = pd.DataFrame(correlations, index=numeric_columns, columns=numeric_columns)\n",
        "\n",
        "mask = np.zeros_like(corr_matrix, dtype=bool)\n",
        "mask[np.triu_indices_from(mask)] = True\n",
        "fig, ax = plt.subplots(figsize=(20, 10))\n",
        "sns.heatmap(\n",
        "    corr_matrix,\n",
        "    mask=mask,\n",
        "    vmax=0.9,\n",
        "    square=True,\n",
        "    annot=True,\n",
        "    cmap='YlGnBu'\n",
        ")\n",
        "plt.title(\"Correlation Heatmap\")\n",
        "plt.show()\n"
      ],
      "metadata": {
        "colab": {
          "base_uri": "https://localhost:8080/",
          "height": 1000
        },
        "id": "8g6MrfahSMAy",
        "outputId": "081eb412-9e1b-45df-91ff-76c29e8c8858"
      },
      "execution_count": null,
      "outputs": [
        {
          "output_type": "display_data",
          "data": {
            "text/plain": [
              "<Figure size 2000x1000 with 2 Axes>"
            ],
            "image/png": "[encoded data removed]"
          },
          "metadata": {}
        }
      ]
    },
    {
      "cell_type": "markdown",
      "source": [
        "MISSING VALUES IN TEST AND TRAIN"
      ],
      "metadata": {
        "id": "s8BrRofeWmAJ"
      }
    },
    {
      "cell_type": "code",
      "source": [
        "from pyspark.sql.functions import col, sum as _sum\n",
        "\n",
        "# Calculate the number of nulls for each column\n",
        "null_counts = df.select([\n",
        "    _sum(col(column).isNull().cast(\"int\")).alias(column)\n",
        "    for column in df.columns\n",
        "])\n",
        "\n",
        "null_counts.show()"
      ],
      "metadata": {
        "colab": {
          "base_uri": "https://localhost:8080/"
        },
        "id": "llzeUmmmUCh6",
        "outputId": "bebdf1ae-d2f0-4473-8e65-b92eef1f6bf6"
      },
      "execution_count": null,
      "outputs": [
        {
          "output_type": "stream",
          "name": "stdout",
          "text": [
            "+---+--------------------------------+-----------+------+---------------------+----------------------+------------------------------+------------------------------+-------------------+----------------+-------------------+------+\n",
            "| id|perc_premium_paid_by_cash_credit|age_in_days|Income|Count_3-6_months_late|Count_6-12_months_late|Count_more_than_12_months_late|application_underwriting_score|no_of_premiums_paid|sourcing_channel|residence_area_type|target|\n",
            "+---+--------------------------------+-----------+------+---------------------+----------------------+------------------------------+------------------------------+-------------------+----------------+-------------------+------+\n",
            "|  0|                               0|          0|     0|                   97|                    97|                            97|                          2974|                  0|               0|                  0|     0|\n",
            "+---+--------------------------------+-----------+------+---------------------+----------------------+------------------------------+------------------------------+-------------------+----------------+-------------------+------+\n",
            "\n"
          ]
        }
      ]
    },
    {
      "cell_type": "code",
      "source": [
        "df = df.fillna({\n",
        "    'Count_3-6_months_late': 0,\n",
        "    'Count_6-12_months_late': 0,\n",
        "    'Count_more_than_12_months_late': 0\n",
        "})\n",
        "\n",
        "mean_value = df.agg({'application_underwriting_score': 'mean'}).collect()[0][0]\n",
        "\n",
        "# Step 2: Fill null values with the mean\n",
        "df = df.fillna({'application_underwriting_score': mean_value})"
      ],
      "metadata": {
        "id": "uPsBOnDzVsuM"
      },
      "execution_count": null,
      "outputs": []
    },
    {
      "cell_type": "code",
      "source": [
        "null_counts = df.select([\n",
        "    _sum(col(column).isNull().cast(\"int\")).alias(column)\n",
        "    for column in df.columns\n",
        "])\n",
        "\n",
        "null_counts.show()"
      ],
      "metadata": {
        "colab": {
          "base_uri": "https://localhost:8080/"
        },
        "id": "z-PLEuNvWMDz",
        "outputId": "9f20fabc-e9a4-4d07-e0b3-490f503774c8"
      },
      "execution_count": null,
      "outputs": [
        {
          "output_type": "stream",
          "name": "stdout",
          "text": [
            "+---+--------------------------------+-----------+------+---------------------+----------------------+------------------------------+------------------------------+-------------------+----------------+-------------------+------+\n",
            "| id|perc_premium_paid_by_cash_credit|age_in_days|Income|Count_3-6_months_late|Count_6-12_months_late|Count_more_than_12_months_late|application_underwriting_score|no_of_premiums_paid|sourcing_channel|residence_area_type|target|\n",
            "+---+--------------------------------+-----------+------+---------------------+----------------------+------------------------------+------------------------------+-------------------+----------------+-------------------+------+\n",
            "|  0|                               0|          0|     0|                    0|                     0|                             0|                             0|                  0|               0|                  0|     0|\n",
            "+---+--------------------------------+-----------+------+---------------------+----------------------+------------------------------+------------------------------+-------------------+----------------+-------------------+------+\n",
            "\n"
          ]
        }
      ]
    },
    {
      "cell_type": "code",
      "source": [
        "null_counts = df1.select([\n",
        "    _sum(col(column).isNull().cast(\"int\")).alias(column)\n",
        "    for column in df1.columns\n",
        "])\n",
        "\n",
        "null_counts.show()"
      ],
      "metadata": {
        "colab": {
          "base_uri": "https://localhost:8080/"
        },
        "id": "8zNJdw3DWUkb",
        "outputId": "ca993cae-2c9c-453a-8c52-7dcc45739135"
      },
      "execution_count": null,
      "outputs": [
        {
          "output_type": "stream",
          "name": "stdout",
          "text": [
            "+---+--------------------------------+-----------+------+---------------------+----------------------+------------------------------+------------------------------+-------------------+----------------+-------------------+\n",
            "| id|perc_premium_paid_by_cash_credit|age_in_days|Income|Count_3-6_months_late|Count_6-12_months_late|Count_more_than_12_months_late|application_underwriting_score|no_of_premiums_paid|sourcing_channel|residence_area_type|\n",
            "+---+--------------------------------+-----------+------+---------------------+----------------------+------------------------------+------------------------------+-------------------+----------------+-------------------+\n",
            "|  0|                               0|          0|     0|                   31|                    31|                            31|                          1323|                  0|               0|                  0|\n",
            "+---+--------------------------------+-----------+------+---------------------+----------------------+------------------------------+------------------------------+-------------------+----------------+-------------------+\n",
            "\n"
          ]
        }
      ]
    },
    {
      "cell_type": "code",
      "source": [
        "df1 = df1.fillna({\n",
        "    'Count_3-6_months_late': 0,\n",
        "    'Count_6-12_months_late': 0,\n",
        "    'Count_more_than_12_months_late': 0\n",
        "})\n",
        "\n",
        "mean_value = df1.agg({'application_underwriting_score': 'mean'}).collect()[0][0]\n",
        "\n",
        "# Step 2: Fill null values with the mean\n",
        "df1 = df1.fillna({'application_underwriting_score': mean_value})"
      ],
      "metadata": {
        "id": "nAQur2qYWbYL"
      },
      "execution_count": null,
      "outputs": []
    },
    {
      "cell_type": "code",
      "source": [
        "null_counts = df1.select([\n",
        "    _sum(col(column).isNull().cast(\"int\")).alias(column)\n",
        "    for column in df1.columns\n",
        "])\n",
        "\n",
        "null_counts.show()"
      ],
      "metadata": {
        "colab": {
          "base_uri": "https://localhost:8080/"
        },
        "id": "Z_3qHAw-Wf6c",
        "outputId": "81c69f4c-2037-4edc-cbe9-20da4149639d"
      },
      "execution_count": null,
      "outputs": [
        {
          "output_type": "stream",
          "name": "stdout",
          "text": [
            "+---+--------------------------------+-----------+------+---------------------+----------------------+------------------------------+------------------------------+-------------------+----------------+-------------------+\n",
            "| id|perc_premium_paid_by_cash_credit|age_in_days|Income|Count_3-6_months_late|Count_6-12_months_late|Count_more_than_12_months_late|application_underwriting_score|no_of_premiums_paid|sourcing_channel|residence_area_type|\n",
            "+---+--------------------------------+-----------+------+---------------------+----------------------+------------------------------+------------------------------+-------------------+----------------+-------------------+\n",
            "|  0|                               0|          0|     0|                    0|                     0|                             0|                             0|                  0|               0|                  0|\n",
            "+---+--------------------------------+-----------+------+---------------------+----------------------+------------------------------+------------------------------+-------------------+----------------+-------------------+\n",
            "\n"
          ]
        }
      ]
    },
    {
      "cell_type": "markdown",
      "source": [
        "##MODELS"
      ],
      "metadata": {
        "id": "FCPCpGqDW7OM"
      }
    },
    {
      "cell_type": "code",
      "source": [
        "from pyspark.ml.feature import StringIndexer\n",
        "from pyspark.ml.feature import VectorAssembler"
      ],
      "metadata": {
        "id": "DllJSn7wXAzd"
      },
      "execution_count": null,
      "outputs": []
    },
    {
      "cell_type": "code",
      "source": [
        "indexer=StringIndexer(inputCol= \"sourcing_channel\",outputCol='sourcing_channel_index')\n",
        "indexed=indexer.fit(indexed).transform(indexed)"
      ],
      "metadata": {
        "colab": {
          "base_uri": "https://localhost:8080/",
          "height": 790
        },
        "collapsed": true,
        "id": "29rl6yRwelKV",
        "outputId": "1fc601a3-b361-46df-84f8-ee65a5c088e6"
      },
      "execution_count": null,
      "outputs": [
        {
          "output_type": "error",
          "ename": "IllegalArgumentException",
          "evalue": "requirement failed: Output column sourcing_channel_index already exists.",
          "traceback": [
            "\u001b[0;31m---------------------------------------------------------------------------\u001b[0m",
            "\u001b[0;31mIllegalArgumentException\u001b[0m                  Traceback (most recent call last)",
            "\u001b[0;32m<ipython-input-43-04096f121b1d>\u001b[0m in \u001b[0;36m<cell line: 2>\u001b[0;34m()\u001b[0m\n\u001b[1;32m      1\u001b[0m \u001b[0mindexer\u001b[0m\u001b[0;34m=\u001b[0m\u001b[0mStringIndexer\u001b[0m\u001b[0;34m(\u001b[0m\u001b[0minputCol\u001b[0m\u001b[0;34m=\u001b[0m \u001b[0;34m\"sourcing_channel\"\u001b[0m\u001b[0;34m,\u001b[0m\u001b[0moutputCol\u001b[0m\u001b[0;34m=\u001b[0m\u001b[0;34m'sourcing_channel_index'\u001b[0m\u001b[0;34m)\u001b[0m\u001b[0;34m\u001b[0m\u001b[0;34m\u001b[0m\u001b[0m\n\u001b[0;32m----> 2\u001b[0;31m \u001b[0mindexed\u001b[0m\u001b[0;34m=\u001b[0m\u001b[0mindexer\u001b[0m\u001b[0;34m.\u001b[0m\u001b[0mfit\u001b[0m\u001b[0;34m(\u001b[0m\u001b[0mindexed\u001b[0m\u001b[0;34m)\u001b[0m\u001b[0;34m.\u001b[0m\u001b[0mtransform\u001b[0m\u001b[0;34m(\u001b[0m\u001b[0mindexed\u001b[0m\u001b[0;34m)\u001b[0m\u001b[0;34m\u001b[0m\u001b[0;34m\u001b[0m\u001b[0m\n\u001b[0m",
            "\u001b[0;32m/usr/local/lib/python3.10/dist-packages/pyspark/ml/base.py\u001b[0m in \u001b[0;36mfit\u001b[0;34m(self, dataset, params)\u001b[0m\n\u001b[1;32m    203\u001b[0m                 \u001b[0;32mreturn\u001b[0m \u001b[0mself\u001b[0m\u001b[0;34m.\u001b[0m\u001b[0mcopy\u001b[0m\u001b[0;34m(\u001b[0m\u001b[0mparams\u001b[0m\u001b[0;34m)\u001b[0m\u001b[0;34m.\u001b[0m\u001b[0m_fit\u001b[0m\u001b[0;34m(\u001b[0m\u001b[0mdataset\u001b[0m\u001b[0;34m)\u001b[0m\u001b[0;34m\u001b[0m\u001b[0;34m\u001b[0m\u001b[0m\n\u001b[1;32m    204\u001b[0m             \u001b[0;32melse\u001b[0m\u001b[0;34m:\u001b[0m\u001b[0;34m\u001b[0m\u001b[0;34m\u001b[0m\u001b[0m\n\u001b[0;32m--> 205\u001b[0;31m                 \u001b[0;32mreturn\u001b[0m \u001b[0mself\u001b[0m\u001b[0;34m.\u001b[0m\u001b[0m_fit\u001b[0m\u001b[0;34m(\u001b[0m\u001b[0mdataset\u001b[0m\u001b[0;34m)\u001b[0m\u001b[0;34m\u001b[0m\u001b[0;34m\u001b[0m\u001b[0m\n\u001b[0m\u001b[1;32m    206\u001b[0m         \u001b[0;32melse\u001b[0m\u001b[0;34m:\u001b[0m\u001b[0;34m\u001b[0m\u001b[0;34m\u001b[0m\u001b[0m\n\u001b[1;32m    207\u001b[0m             raise TypeError(\n",
            "\u001b[0;32m/usr/local/lib/python3.10/dist-packages/pyspark/ml/wrapper.py\u001b[0m in \u001b[0;36m_fit\u001b[0;34m(self, dataset)\u001b[0m\n\u001b[1;32m    379\u001b[0m \u001b[0;34m\u001b[0m\u001b[0m\n\u001b[1;32m    380\u001b[0m     \u001b[0;32mdef\u001b[0m \u001b[0m_fit\u001b[0m\u001b[0;34m(\u001b[0m\u001b[0mself\u001b[0m\u001b[0;34m,\u001b[0m \u001b[0mdataset\u001b[0m\u001b[0;34m:\u001b[0m \u001b[0mDataFrame\u001b[0m\u001b[0;34m)\u001b[0m \u001b[0;34m->\u001b[0m \u001b[0mJM\u001b[0m\u001b[0;34m:\u001b[0m\u001b[0;34m\u001b[0m\u001b[0;34m\u001b[0m\u001b[0m\n\u001b[0;32m--> 381\u001b[0;31m         \u001b[0mjava_model\u001b[0m \u001b[0;34m=\u001b[0m \u001b[0mself\u001b[0m\u001b[0;34m.\u001b[0m\u001b[0m_fit_java\u001b[0m\u001b[0;34m(\u001b[0m\u001b[0mdataset\u001b[0m\u001b[0;34m)\u001b[0m\u001b[0;34m\u001b[0m\u001b[0;34m\u001b[0m\u001b[0m\n\u001b[0m\u001b[1;32m    382\u001b[0m         \u001b[0mmodel\u001b[0m \u001b[0;34m=\u001b[0m \u001b[0mself\u001b[0m\u001b[0;34m.\u001b[0m\u001b[0m_create_model\u001b[0m\u001b[0;34m(\u001b[0m\u001b[0mjava_model\u001b[0m\u001b[0;34m)\u001b[0m\u001b[0;34m\u001b[0m\u001b[0;34m\u001b[0m\u001b[0m\n\u001b[1;32m    383\u001b[0m         \u001b[0;32mreturn\u001b[0m \u001b[0mself\u001b[0m\u001b[0;34m.\u001b[0m\u001b[0m_copyValues\u001b[0m\u001b[0;34m(\u001b[0m\u001b[0mmodel\u001b[0m\u001b[0;34m)\u001b[0m\u001b[0;34m\u001b[0m\u001b[0;34m\u001b[0m\u001b[0m\n",
            "\u001b[0;32m/usr/local/lib/python3.10/dist-packages/pyspark/ml/wrapper.py\u001b[0m in \u001b[0;36m_fit_java\u001b[0;34m(self, dataset)\u001b[0m\n\u001b[1;32m    376\u001b[0m \u001b[0;34m\u001b[0m\u001b[0m\n\u001b[1;32m    377\u001b[0m         \u001b[0mself\u001b[0m\u001b[0;34m.\u001b[0m\u001b[0m_transfer_params_to_java\u001b[0m\u001b[0;34m(\u001b[0m\u001b[0;34m)\u001b[0m\u001b[0;34m\u001b[0m\u001b[0;34m\u001b[0m\u001b[0m\n\u001b[0;32m--> 378\u001b[0;31m         \u001b[0;32mreturn\u001b[0m \u001b[0mself\u001b[0m\u001b[0;34m.\u001b[0m\u001b[0m_java_obj\u001b[0m\u001b[0;34m.\u001b[0m\u001b[0mfit\u001b[0m\u001b[0;34m(\u001b[0m\u001b[0mdataset\u001b[0m\u001b[0;34m.\u001b[0m\u001b[0m_jdf\u001b[0m\u001b[0;34m)\u001b[0m\u001b[0;34m\u001b[0m\u001b[0;34m\u001b[0m\u001b[0m\n\u001b[0m\u001b[1;32m    379\u001b[0m \u001b[0;34m\u001b[0m\u001b[0m\n\u001b[1;32m    380\u001b[0m     \u001b[0;32mdef\u001b[0m \u001b[0m_fit\u001b[0m\u001b[0;34m(\u001b[0m\u001b[0mself\u001b[0m\u001b[0;34m,\u001b[0m \u001b[0mdataset\u001b[0m\u001b[0;34m:\u001b[0m \u001b[0mDataFrame\u001b[0m\u001b[0;34m)\u001b[0m \u001b[0;34m->\u001b[0m \u001b[0mJM\u001b[0m\u001b[0;34m:\u001b[0m\u001b[0;34m\u001b[0m\u001b[0;34m\u001b[0m\u001b[0m\n",
            "\u001b[0;32m/usr/local/lib/python3.10/dist-packages/py4j/java_gateway.py\u001b[0m in \u001b[0;36m__call__\u001b[0;34m(self, *args)\u001b[0m\n\u001b[1;32m   1320\u001b[0m \u001b[0;34m\u001b[0m\u001b[0m\n\u001b[1;32m   1321\u001b[0m         \u001b[0manswer\u001b[0m \u001b[0;34m=\u001b[0m \u001b[0mself\u001b[0m\u001b[0;34m.\u001b[0m\u001b[0mgateway_client\u001b[0m\u001b[0;34m.\u001b[0m\u001b[0msend_command\u001b[0m\u001b[0;34m(\u001b[0m\u001b[0mcommand\u001b[0m\u001b[0;34m)\u001b[0m\u001b[0;34m\u001b[0m\u001b[0;34m\u001b[0m\u001b[0m\n\u001b[0;32m-> 1322\u001b[0;31m         return_value = get_return_value(\n\u001b[0m\u001b[1;32m   1323\u001b[0m             answer, self.gateway_client, self.target_id, self.name)\n\u001b[1;32m   1324\u001b[0m \u001b[0;34m\u001b[0m\u001b[0m\n",
            "\u001b[0;32m/usr/local/lib/python3.10/dist-packages/pyspark/errors/exceptions/captured.py\u001b[0m in \u001b[0;36mdeco\u001b[0;34m(*a, **kw)\u001b[0m\n\u001b[1;32m    183\u001b[0m                 \u001b[0;31m# Hide where the exception came from that shows a non-Pythonic\u001b[0m\u001b[0;34m\u001b[0m\u001b[0;34m\u001b[0m\u001b[0m\n\u001b[1;32m    184\u001b[0m                 \u001b[0;31m# JVM exception message.\u001b[0m\u001b[0;34m\u001b[0m\u001b[0;34m\u001b[0m\u001b[0m\n\u001b[0;32m--> 185\u001b[0;31m                 \u001b[0;32mraise\u001b[0m \u001b[0mconverted\u001b[0m \u001b[0;32mfrom\u001b[0m \u001b[0;32mNone\u001b[0m\u001b[0;34m\u001b[0m\u001b[0;34m\u001b[0m\u001b[0m\n\u001b[0m\u001b[1;32m    186\u001b[0m             \u001b[0;32melse\u001b[0m\u001b[0;34m:\u001b[0m\u001b[0;34m\u001b[0m\u001b[0;34m\u001b[0m\u001b[0m\n\u001b[1;32m    187\u001b[0m                 \u001b[0;32mraise\u001b[0m\u001b[0;34m\u001b[0m\u001b[0;34m\u001b[0m\u001b[0m\n",
            "\u001b[0;31mIllegalArgumentException\u001b[0m: requirement failed: Output column sourcing_channel_index already exists."
          ]
        }
      ]
    },
    {
      "cell_type": "code",
      "source": [
        "indexer=StringIndexer(inputCol= \"residence_area_type\",outputCol='residence_area_type_index')\n",
        "indexed=indexer.fit(indexed).transform(indexed)"
      ],
      "metadata": {
        "colab": {
          "base_uri": "https://localhost:8080/",
          "height": 304
        },
        "collapsed": true,
        "id": "jXM7ZzU8e4Jf",
        "outputId": "4bda5227-0e5a-46a4-9300-30ff9a4fe41e"
      },
      "execution_count": null,
      "outputs": [
        {
          "output_type": "error",
          "ename": "IllegalArgumentException",
          "evalue": "requirement failed: Output column residence_area_type_index already exists.",
          "traceback": [
            "\u001b[0;31m---------------------------------------------------------------------------\u001b[0m",
            "\u001b[0;31mIllegalArgumentException\u001b[0m                  Traceback (most recent call last)",
            "\u001b[0;32m<ipython-input-41-a2168bf003a8>\u001b[0m in \u001b[0;36m<cell line: 2>\u001b[0;34m()\u001b[0m\n\u001b[1;32m      1\u001b[0m \u001b[0mindexer\u001b[0m\u001b[0;34m=\u001b[0m\u001b[0mStringIndexer\u001b[0m\u001b[0;34m(\u001b[0m\u001b[0minputCol\u001b[0m\u001b[0;34m=\u001b[0m \u001b[0;34m\"residence_area_type\"\u001b[0m\u001b[0;34m,\u001b[0m\u001b[0moutputCol\u001b[0m\u001b[0;34m=\u001b[0m\u001b[0;34m'residence_area_type_index'\u001b[0m\u001b[0;34m)\u001b[0m\u001b[0;34m\u001b[0m\u001b[0;34m\u001b[0m\u001b[0m\n\u001b[0;32m----> 2\u001b[0;31m \u001b[0mindexed\u001b[0m\u001b[0;34m=\u001b[0m\u001b[0mindexer\u001b[0m\u001b[0;34m.\u001b[0m\u001b[0mfit\u001b[0m\u001b[0;34m(\u001b[0m\u001b[0mindexed\u001b[0m\u001b[0;34m)\u001b[0m\u001b[0;34m.\u001b[0m\u001b[0mtransform\u001b[0m\u001b[0;34m(\u001b[0m\u001b[0mindexed\u001b[0m\u001b[0;34m)\u001b[0m\u001b[0;34m\u001b[0m\u001b[0;34m\u001b[0m\u001b[0m\n\u001b[0m",
            "\u001b[0;32m/usr/local/lib/python3.10/dist-packages/pyspark/ml/base.py\u001b[0m in \u001b[0;36mfit\u001b[0;34m(self, dataset, params)\u001b[0m\n\u001b[1;32m    203\u001b[0m                 \u001b[0;32mreturn\u001b[0m \u001b[0mself\u001b[0m\u001b[0;34m.\u001b[0m\u001b[0mcopy\u001b[0m\u001b[0;34m(\u001b[0m\u001b[0mparams\u001b[0m\u001b[0;34m)\u001b[0m\u001b[0;34m.\u001b[0m\u001b[0m_fit\u001b[0m\u001b[0;34m(\u001b[0m\u001b[0mdataset\u001b[0m\u001b[0;34m)\u001b[0m\u001b[0;34m\u001b[0m\u001b[0;34m\u001b[0m\u001b[0m\n\u001b[1;32m    204\u001b[0m             \u001b[0;32melse\u001b[0m\u001b[0;34m:\u001b[0m\u001b[0;34m\u001b[0m\u001b[0;34m\u001b[0m\u001b[0m\n\u001b[0;32m--> 205\u001b[0;31m                 \u001b[0;32mreturn\u001b[0m \u001b[0mself\u001b[0m\u001b[0;34m.\u001b[0m\u001b[0m_fit\u001b[0m\u001b[0;34m(\u001b[0m\u001b[0mdataset\u001b[0m\u001b[0;34m)\u001b[0m\u001b[0;34m\u001b[0m\u001b[0;34m\u001b[0m\u001b[0m\n\u001b[0m\u001b[1;32m    206\u001b[0m         \u001b[0;32melse\u001b[0m\u001b[0;34m:\u001b[0m\u001b[0;34m\u001b[0m\u001b[0;34m\u001b[0m\u001b[0m\n\u001b[1;32m    207\u001b[0m             raise TypeError(\n",
            "\u001b[0;32m/usr/local/lib/python3.10/dist-packages/pyspark/ml/wrapper.py\u001b[0m in \u001b[0;36m_fit\u001b[0;34m(self, dataset)\u001b[0m\n\u001b[1;32m    379\u001b[0m \u001b[0;34m\u001b[0m\u001b[0m\n\u001b[1;32m    380\u001b[0m     \u001b[0;32mdef\u001b[0m \u001b[0m_fit\u001b[0m\u001b[0;34m(\u001b[0m\u001b[0mself\u001b[0m\u001b[0;34m,\u001b[0m \u001b[0mdataset\u001b[0m\u001b[0;34m:\u001b[0m \u001b[0mDataFrame\u001b[0m\u001b[0;34m)\u001b[0m \u001b[0;34m->\u001b[0m \u001b[0mJM\u001b[0m\u001b[0;34m:\u001b[0m\u001b[0;34m\u001b[0m\u001b[0;34m\u001b[0m\u001b[0m\n\u001b[0;32m--> 381\u001b[0;31m         \u001b[0mjava_model\u001b[0m \u001b[0;34m=\u001b[0m \u001b[0mself\u001b[0m\u001b[0;34m.\u001b[0m\u001b[0m_fit_java\u001b[0m\u001b[0;34m(\u001b[0m\u001b[0mdataset\u001b[0m\u001b[0;34m)\u001b[0m\u001b[0;34m\u001b[0m\u001b[0;34m\u001b[0m\u001b[0m\n\u001b[0m\u001b[1;32m    382\u001b[0m         \u001b[0mmodel\u001b[0m \u001b[0;34m=\u001b[0m \u001b[0mself\u001b[0m\u001b[0;34m.\u001b[0m\u001b[0m_create_model\u001b[0m\u001b[0;34m(\u001b[0m\u001b[0mjava_model\u001b[0m\u001b[0;34m)\u001b[0m\u001b[0;34m\u001b[0m\u001b[0;34m\u001b[0m\u001b[0m\n\u001b[1;32m    383\u001b[0m         \u001b[0;32mreturn\u001b[0m \u001b[0mself\u001b[0m\u001b[0;34m.\u001b[0m\u001b[0m_copyValues\u001b[0m\u001b[0;34m(\u001b[0m\u001b[0mmodel\u001b[0m\u001b[0;34m)\u001b[0m\u001b[0;34m\u001b[0m\u001b[0;34m\u001b[0m\u001b[0m\n",
            "\u001b[0;32m/usr/local/lib/python3.10/dist-packages/pyspark/ml/wrapper.py\u001b[0m in \u001b[0;36m_fit_java\u001b[0;34m(self, dataset)\u001b[0m\n\u001b[1;32m    376\u001b[0m \u001b[0;34m\u001b[0m\u001b[0m\n\u001b[1;32m    377\u001b[0m         \u001b[0mself\u001b[0m\u001b[0;34m.\u001b[0m\u001b[0m_transfer_params_to_java\u001b[0m\u001b[0;34m(\u001b[0m\u001b[0;34m)\u001b[0m\u001b[0;34m\u001b[0m\u001b[0;34m\u001b[0m\u001b[0m\n\u001b[0;32m--> 378\u001b[0;31m         \u001b[0;32mreturn\u001b[0m \u001b[0mself\u001b[0m\u001b[0;34m.\u001b[0m\u001b[0m_java_obj\u001b[0m\u001b[0;34m.\u001b[0m\u001b[0mfit\u001b[0m\u001b[0;34m(\u001b[0m\u001b[0mdataset\u001b[0m\u001b[0;34m.\u001b[0m\u001b[0m_jdf\u001b[0m\u001b[0;34m)\u001b[0m\u001b[0;34m\u001b[0m\u001b[0;34m\u001b[0m\u001b[0m\n\u001b[0m\u001b[1;32m    379\u001b[0m \u001b[0;34m\u001b[0m\u001b[0m\n\u001b[1;32m    380\u001b[0m     \u001b[0;32mdef\u001b[0m \u001b[0m_fit\u001b[0m\u001b[0;34m(\u001b[0m\u001b[0mself\u001b[0m\u001b[0;34m,\u001b[0m \u001b[0mdataset\u001b[0m\u001b[0;34m:\u001b[0m \u001b[0mDataFrame\u001b[0m\u001b[0;34m)\u001b[0m \u001b[0;34m->\u001b[0m \u001b[0mJM\u001b[0m\u001b[0;34m:\u001b[0m\u001b[0;34m\u001b[0m\u001b[0;34m\u001b[0m\u001b[0m\n",
            "\u001b[0;32m/usr/local/lib/python3.10/dist-packages/py4j/java_gateway.py\u001b[0m in \u001b[0;36m__call__\u001b[0;34m(self, *args)\u001b[0m\n\u001b[1;32m   1320\u001b[0m \u001b[0;34m\u001b[0m\u001b[0m\n\u001b[1;32m   1321\u001b[0m         \u001b[0manswer\u001b[0m \u001b[0;34m=\u001b[0m \u001b[0mself\u001b[0m\u001b[0;34m.\u001b[0m\u001b[0mgateway_client\u001b[0m\u001b[0;34m.\u001b[0m\u001b[0msend_command\u001b[0m\u001b[0;34m(\u001b[0m\u001b[0mcommand\u001b[0m\u001b[0;34m)\u001b[0m\u001b[0;34m\u001b[0m\u001b[0;34m\u001b[0m\u001b[0m\n\u001b[0;32m-> 1322\u001b[0;31m         return_value = get_return_value(\n\u001b[0m\u001b[1;32m   1323\u001b[0m             answer, self.gateway_client, self.target_id, self.name)\n\u001b[1;32m   1324\u001b[0m \u001b[0;34m\u001b[0m\u001b[0m\n",
            "\u001b[0;32m/usr/local/lib/python3.10/dist-packages/pyspark/errors/exceptions/captured.py\u001b[0m in \u001b[0;36mdeco\u001b[0;34m(*a, **kw)\u001b[0m\n\u001b[1;32m    183\u001b[0m                 \u001b[0;31m# Hide where the exception came from that shows a non-Pythonic\u001b[0m\u001b[0;34m\u001b[0m\u001b[0;34m\u001b[0m\u001b[0m\n\u001b[1;32m    184\u001b[0m                 \u001b[0;31m# JVM exception message.\u001b[0m\u001b[0;34m\u001b[0m\u001b[0;34m\u001b[0m\u001b[0m\n\u001b[0;32m--> 185\u001b[0;31m                 \u001b[0;32mraise\u001b[0m \u001b[0mconverted\u001b[0m \u001b[0;32mfrom\u001b[0m \u001b[0;32mNone\u001b[0m\u001b[0;34m\u001b[0m\u001b[0;34m\u001b[0m\u001b[0m\n\u001b[0m\u001b[1;32m    186\u001b[0m             \u001b[0;32melse\u001b[0m\u001b[0;34m:\u001b[0m\u001b[0;34m\u001b[0m\u001b[0;34m\u001b[0m\u001b[0m\n\u001b[1;32m    187\u001b[0m                 \u001b[0;32mraise\u001b[0m\u001b[0;34m\u001b[0m\u001b[0;34m\u001b[0m\u001b[0m\n",
            "\u001b[0;31mIllegalArgumentException\u001b[0m: requirement failed: Output column residence_area_type_index already exists."
          ]
        }
      ]
    },
    {
      "cell_type": "code",
      "source": [
        "indexed.show()"
      ],
      "metadata": {
        "colab": {
          "base_uri": "https://localhost:8080/"
        },
        "id": "X3i0TwqmfEAN",
        "outputId": "f1cfb975-ea91-4114-d1a6-75896629cf24"
      },
      "execution_count": null,
      "outputs": [
        {
          "output_type": "stream",
          "name": "stdout",
          "text": [
            "+------+--------------------------------+-----------+------+---------------------+----------------------+------------------------------+------------------------------+-------------------+----------------+-------------------+------+-------------------------+----------------------+\n",
            "|    id|perc_premium_paid_by_cash_credit|age_in_days|Income|Count_3-6_months_late|Count_6-12_months_late|Count_more_than_12_months_late|application_underwriting_score|no_of_premiums_paid|sourcing_channel|residence_area_type|target|residence_area_type_index|sourcing_channel_index|\n",
            "+------+--------------------------------+-----------+------+---------------------+----------------------+------------------------------+------------------------------+-------------------+----------------+-------------------+------+-------------------------+----------------------+\n",
            "|110936|                           0.429|      12058|355060|                    0|                     0|                             0|                         99.02|                 13|               C|              Urban|     1|                      0.0|                   2.0|\n",
            "| 41492|                            0.01|      21546|315150|                    0|                     0|                             0|                         99.89|                 21|               A|              Urban|     1|                      0.0|                   0.0|\n",
            "| 31300|                           0.917|      17531| 84140|                    2|                     3|                             1|                         98.69|                  7|               C|              Rural|     0|                      1.0|                   2.0|\n",
            "| 19415|                           0.049|      15341|250510|                    0|                     0|                             0|                         99.57|                  9|               A|              Urban|     1|                      0.0|                   0.0|\n",
            "| 99379|                           0.052|      31400|198680|                    0|                     0|                             0|                         99.87|                 12|               B|              Urban|     1|                      0.0|                   1.0|\n",
            "| 59951|                            0.54|      17527|282080|                    2|                     0|                             0|                         99.18|                  9|               B|              Rural|     1|                      1.0|                   1.0|\n",
            "| 54031|                             1.0|      24829|118400|                    0|                     0|                             0|                         99.05|                 11|               B|              Urban|     1|                      0.0|                   1.0|\n",
            "| 94290|                             1.0|      21911|180240|                    1|                     6|                             4|                         99.33|                  3|               A|              Urban|     0|                      0.0|                   0.0|\n",
            "| 93730|                           0.621|       9868| 92520|                    0|                     0|                             0|                         99.58|                  4|               A|              Urban|     1|                      0.0|                   0.0|\n",
            "| 84844|                           0.908|      23008|107180|                    2|                     0|                             0|                         98.91|                 11|               A|              Rural|     0|                      1.0|                   0.0|\n",
            "| 87400|                           0.051|      17529|200100|                    1|                     0|                             0|                         98.66|                 22|               C|              Rural|     1|                      1.0|                   2.0|\n",
            "| 51808|                           0.033|      16075|122060|                    0|                     0|                             0|                         97.03|                  7|               B|              Urban|     1|                      0.0|                   1.0|\n",
            "|104167|                             1.0|      16436| 27290|                    1|                     0|                             1|                         98.32|                  4|               A|              Urban|     1|                      0.0|                   0.0|\n",
            "| 52420|                           0.111|      19723|136000|                    0|                     0|                             0|                         99.59|                  9|               A|              Urban|     1|                      0.0|                   0.0|\n",
            "| 42421|                           0.027|      16430|114110|                    0|                     0|                             1|                          98.7|                 13|               D|              Urban|     1|                      0.0|                   3.0|\n",
            "| 91820|                           0.963|      12788| 90140|                    1|                     0|                             0|                         99.06|                  9|               A|              Urban|     1|                      0.0|                   0.0|\n",
            "| 64685|                           0.055|      23010|410310|                    0|                     0|                             0|                         99.66|                 10|               A|              Urban|     1|                      0.0|                   0.0|\n",
            "| 60263|                           0.125|      22639|315110|                    0|                     0|                             0|                         99.31|                 14|               A|              Rural|     1|                      1.0|                   0.0|\n",
            "| 68260|                           0.012|      16433| 87530|                    0|                     0|                             0|             99.06729119785139|                  5|               A|              Rural|     1|                      1.0|                   0.0|\n",
            "|  4043|                             0.0|      11687|152610|                    1|                     2|                             1|                         99.53|                  5|               C|              Urban|     0|                      0.0|                   2.0|\n",
            "+------+--------------------------------+-----------+------+---------------------+----------------------+------------------------------+------------------------------+-------------------+----------------+-------------------+------+-------------------------+----------------------+\n",
            "only showing top 20 rows\n",
            "\n"
          ]
        }
      ]
    },
    {
      "cell_type": "code",
      "source": [
        "indexed.columns"
      ],
      "metadata": {
        "colab": {
          "base_uri": "https://localhost:8080/"
        },
        "id": "k0A1NjX5fx0l",
        "outputId": "a5327990-cd0d-4494-f2f6-25bf5faa00a1"
      },
      "execution_count": null,
      "outputs": [
        {
          "output_type": "execute_result",
          "data": {
            "text/plain": [
              "['id',\n",
              " 'perc_premium_paid_by_cash_credit',\n",
              " 'age_in_days',\n",
              " 'Income',\n",
              " 'Count_3-6_months_late',\n",
              " 'Count_6-12_months_late',\n",
              " 'Count_more_than_12_months_late',\n",
              " 'application_underwriting_score',\n",
              " 'no_of_premiums_paid',\n",
              " 'sourcing_channel',\n",
              " 'residence_area_type',\n",
              " 'target',\n",
              " 'residence_area_type_index',\n",
              " 'sourcing_channel_index']"
            ]
          },
          "metadata": {},
          "execution_count": 45
        }
      ]
    },
    {
      "cell_type": "code",
      "source": [
        "assembler= VectorAssembler(inputCols=['perc_premium_paid_by_cash_credit',\n",
        " 'age_in_days',\n",
        " 'Income',\n",
        " 'Count_3-6_months_late',\n",
        " 'Count_6-12_months_late',\n",
        " 'Count_more_than_12_months_late',\n",
        " 'application_underwriting_score',\n",
        " 'no_of_premiums_paid',\n",
        " 'residence_area_type_index',\n",
        " 'sourcing_channel_index'],outputCol='features')"
      ],
      "metadata": {
        "id": "zHPgg1kCfyo8"
      },
      "execution_count": null,
      "outputs": []
    },
    {
      "cell_type": "code",
      "source": [
        "assembler\n"
      ],
      "metadata": {
        "colab": {
          "base_uri": "https://localhost:8080/"
        },
        "id": "IUQlON3GgSh3",
        "outputId": "cef0db84-67c2-4c78-9f8b-656edb843e0c"
      },
      "execution_count": null,
      "outputs": [
        {
          "output_type": "execute_result",
          "data": {
            "text/plain": [
              "VectorAssembler_565cf5d42096"
            ]
          },
          "metadata": {},
          "execution_count": 47
        }
      ]
    },
    {
      "cell_type": "code",
      "source": [
        "output= assembler.transform(indexed)"
      ],
      "metadata": {
        "id": "8gd4p-HugWQH"
      },
      "execution_count": null,
      "outputs": []
    },
    {
      "cell_type": "code",
      "source": [
        "output"
      ],
      "metadata": {
        "colab": {
          "base_uri": "https://localhost:8080/"
        },
        "id": "j_uB6686gcH2",
        "outputId": "b72fe543-8a21-42ec-84cd-60117903a0d2"
      },
      "execution_count": null,
      "outputs": [
        {
          "output_type": "execute_result",
          "data": {
            "text/plain": [
              "DataFrame[id: int, perc_premium_paid_by_cash_credit: double, age_in_days: int, Income: int, Count_3-6_months_late: int, Count_6-12_months_late: int, Count_more_than_12_months_late: int, application_underwriting_score: double, no_of_premiums_paid: int, sourcing_channel: string, residence_area_type: string, target: int, residence_area_type_index: double, sourcing_channel_index: double, features: vector]"
            ]
          },
          "metadata": {},
          "execution_count": 49
        }
      ]
    },
    {
      "cell_type": "code",
      "source": [
        "output.show()"
      ],
      "metadata": {
        "colab": {
          "base_uri": "https://localhost:8080/"
        },
        "id": "XkGabkOYgiyA",
        "outputId": "2ccb915e-d33a-4feb-b400-aa842e6dba39"
      },
      "execution_count": null,
      "outputs": [
        {
          "output_type": "stream",
          "name": "stdout",
          "text": [
            "+------+--------------------------------+-----------+------+---------------------+----------------------+------------------------------+------------------------------+-------------------+----------------+-------------------+------+-------------------------+----------------------+--------------------+\n",
            "|    id|perc_premium_paid_by_cash_credit|age_in_days|Income|Count_3-6_months_late|Count_6-12_months_late|Count_more_than_12_months_late|application_underwriting_score|no_of_premiums_paid|sourcing_channel|residence_area_type|target|residence_area_type_index|sourcing_channel_index|            features|\n",
            "+------+--------------------------------+-----------+------+---------------------+----------------------+------------------------------+------------------------------+-------------------+----------------+-------------------+------+-------------------------+----------------------+--------------------+\n",
            "|110936|                           0.429|      12058|355060|                    0|                     0|                             0|                         99.02|                 13|               C|              Urban|     1|                      0.0|                   2.0|[0.429,12058.0,35...|\n",
            "| 41492|                            0.01|      21546|315150|                    0|                     0|                             0|                         99.89|                 21|               A|              Urban|     1|                      0.0|                   0.0|(10,[0,1,2,6,7],[...|\n",
            "| 31300|                           0.917|      17531| 84140|                    2|                     3|                             1|                         98.69|                  7|               C|              Rural|     0|                      1.0|                   2.0|[0.917,17531.0,84...|\n",
            "| 19415|                           0.049|      15341|250510|                    0|                     0|                             0|                         99.57|                  9|               A|              Urban|     1|                      0.0|                   0.0|(10,[0,1,2,6,7],[...|\n",
            "| 99379|                           0.052|      31400|198680|                    0|                     0|                             0|                         99.87|                 12|               B|              Urban|     1|                      0.0|                   1.0|[0.052,31400.0,19...|\n",
            "| 59951|                            0.54|      17527|282080|                    2|                     0|                             0|                         99.18|                  9|               B|              Rural|     1|                      1.0|                   1.0|[0.54,17527.0,282...|\n",
            "| 54031|                             1.0|      24829|118400|                    0|                     0|                             0|                         99.05|                 11|               B|              Urban|     1|                      0.0|                   1.0|[1.0,24829.0,1184...|\n",
            "| 94290|                             1.0|      21911|180240|                    1|                     6|                             4|                         99.33|                  3|               A|              Urban|     0|                      0.0|                   0.0|[1.0,21911.0,1802...|\n",
            "| 93730|                           0.621|       9868| 92520|                    0|                     0|                             0|                         99.58|                  4|               A|              Urban|     1|                      0.0|                   0.0|(10,[0,1,2,6,7],[...|\n",
            "| 84844|                           0.908|      23008|107180|                    2|                     0|                             0|                         98.91|                 11|               A|              Rural|     0|                      1.0|                   0.0|[0.908,23008.0,10...|\n",
            "| 87400|                           0.051|      17529|200100|                    1|                     0|                             0|                         98.66|                 22|               C|              Rural|     1|                      1.0|                   2.0|[0.051,17529.0,20...|\n",
            "| 51808|                           0.033|      16075|122060|                    0|                     0|                             0|                         97.03|                  7|               B|              Urban|     1|                      0.0|                   1.0|[0.033,16075.0,12...|\n",
            "|104167|                             1.0|      16436| 27290|                    1|                     0|                             1|                         98.32|                  4|               A|              Urban|     1|                      0.0|                   0.0|[1.0,16436.0,2729...|\n",
            "| 52420|                           0.111|      19723|136000|                    0|                     0|                             0|                         99.59|                  9|               A|              Urban|     1|                      0.0|                   0.0|(10,[0,1,2,6,7],[...|\n",
            "| 42421|                           0.027|      16430|114110|                    0|                     0|                             1|                          98.7|                 13|               D|              Urban|     1|                      0.0|                   3.0|[0.027,16430.0,11...|\n",
            "| 91820|                           0.963|      12788| 90140|                    1|                     0|                             0|                         99.06|                  9|               A|              Urban|     1|                      0.0|                   0.0|[0.963,12788.0,90...|\n",
            "| 64685|                           0.055|      23010|410310|                    0|                     0|                             0|                         99.66|                 10|               A|              Urban|     1|                      0.0|                   0.0|(10,[0,1,2,6,7],[...|\n",
            "| 60263|                           0.125|      22639|315110|                    0|                     0|                             0|                         99.31|                 14|               A|              Rural|     1|                      1.0|                   0.0|[0.125,22639.0,31...|\n",
            "| 68260|                           0.012|      16433| 87530|                    0|                     0|                             0|             99.06729119785139|                  5|               A|              Rural|     1|                      1.0|                   0.0|[0.012,16433.0,87...|\n",
            "|  4043|                             0.0|      11687|152610|                    1|                     2|                             1|                         99.53|                  5|               C|              Urban|     0|                      0.0|                   2.0|[0.0,11687.0,1526...|\n",
            "+------+--------------------------------+-----------+------+---------------------+----------------------+------------------------------+------------------------------+-------------------+----------------+-------------------+------+-------------------------+----------------------+--------------------+\n",
            "only showing top 20 rows\n",
            "\n"
          ]
        }
      ]
    },
    {
      "cell_type": "code",
      "source": [
        "output.select('features','target').show(10)"
      ],
      "metadata": {
        "colab": {
          "base_uri": "https://localhost:8080/"
        },
        "id": "zhzZvH5Ggnku",
        "outputId": "28fba400-3cac-4b51-b3b3-be73db29d7b8"
      },
      "execution_count": null,
      "outputs": [
        {
          "output_type": "stream",
          "name": "stdout",
          "text": [
            "+--------------------+------+\n",
            "|            features|target|\n",
            "+--------------------+------+\n",
            "|[0.429,12058.0,35...|     1|\n",
            "|(10,[0,1,2,6,7],[...|     1|\n",
            "|[0.917,17531.0,84...|     0|\n",
            "|(10,[0,1,2,6,7],[...|     1|\n",
            "|[0.052,31400.0,19...|     1|\n",
            "|[0.54,17527.0,282...|     1|\n",
            "|[1.0,24829.0,1184...|     1|\n",
            "|[1.0,21911.0,1802...|     0|\n",
            "|(10,[0,1,2,6,7],[...|     1|\n",
            "|[0.908,23008.0,10...|     0|\n",
            "+--------------------+------+\n",
            "only showing top 10 rows\n",
            "\n"
          ]
        }
      ]
    },
    {
      "cell_type": "code",
      "source": [
        "from pyspark.ml.feature import StandardScaler\n",
        "scaler = StandardScaler(inputCol=\"features\", outputCol=\"scaled_features\")\n",
        "scaler_model = scaler.fit(output)\n",
        "output = scaler_model.transform(output)\n",
        "\n",
        "output.select(\"features\", \"scaled_features\").show(truncate=False)"
      ],
      "metadata": {
        "colab": {
          "base_uri": "https://localhost:8080/"
        },
        "id": "upVI_3zog2zu",
        "outputId": "bfe4b1f4-4bf0-4c47-dca4-6f2e495c09da"
      },
      "execution_count": null,
      "outputs": [
        {
          "output_type": "stream",
          "name": "stdout",
          "text": [
            "+-----------------------------------------------------------------+-------------------------------------------------------------------------------------------------------------------------------------------------------------------------------------------+\n",
            "|features                                                         |scaled_features                                                                                                                                                                            |\n",
            "+-----------------------------------------------------------------+-------------------------------------------------------------------------------------------------------------------------------------------------------------------------------------------+\n",
            "|[0.429,12058.0,355060.0,0.0,0.0,0.0,99.02,13.0,0.0,2.0]          |[1.2809236870590013,2.3149645211698173,0.7150069333096529,0.0,0.0,0.0,136.4115154785308,2.5141725657889227,0.0,1.9010322302805522]                                                         |\n",
            "|(10,[0,1,2,6,7],[0.01,21546.0,315150.0,99.89,21.0])              |(10,[0,1,2,6,7],[0.029858361003706327,4.136525590738504,0.6346376247184621,137.6100412154155,4.06135568319749])                                                                            |\n",
            "|[0.917,17531.0,84140.0,2.0,3.0,1.0,98.69,7.0,1.0,2.0]            |[2.73801170403987,3.365702688723509,0.16943807629322988,2.893927682992477,6.876779419732024,3.2067711025677443,135.95690226798834,1.3537852277324967,2.0441726217887384,1.9010322302805522]|\n",
            "|(10,[0,1,2,6,7],[0.049,15341.0,250510.0,99.57,9.0])              |(10,[0,1,2,6,7],[0.146305968918161,2.945253833078966,0.5044679402450323,137.16920416276824,1.7405810070846388])                                                                            |\n",
            "|[0.052,31400.0,198680.0,0.0,0.0,0.0,99.87,12.0,0.0,1.0]          |[0.1552634772192729,6.028353455360115,0.4000945685516866,0.0,0.0,0.0,137.58248889962505,2.3207746761128516,0.0,0.9505161151402761]                                                         |\n",
            "|[0.54,17527.0,282080.0,2.0,0.0,0.0,99.18,9.0,1.0,1.0]            |[1.6123514942001418,3.3649347456081764,0.5680424597194471,2.893927682992477,0.0,0.0,136.63193400485443,1.7405810070846388,2.0441726217887384,0.9505161151402761]                           |\n",
            "|[1.0,24829.0,118400.0,0.0,0.0,0.0,99.05,11.0,0.0,1.0]            |[2.9858361003706326,4.766814902647653,0.2384296200750941,0.0,0.0,0.0,136.45284395221648,2.1273767864367805,0.0,0.9505161151402761]                                                         |\n",
            "|[1.0,21911.0,180240.0,1.0,6.0,4.0,99.33,3.0,0.0,0.0]             |[2.9858361003706326,4.206600400012595,0.36296076623593715,1.4469638414962385,13.753558839464048,12.827084410270977,136.83857637328282,0.5801936690282129,0.0,0.0]                          |\n",
            "|(10,[0,1,2,6,7],[0.621,9868.0,92520.0,99.58,4.0])                |(10,[0,1,2,6,7],[1.8542042183301628,1.8945156655252744,0.1863134159573286,137.18298032066346,0.7735915587042839])                                                                          |\n",
            "|[0.908,23008.0,107180.0,2.0,0.0,0.0,98.91,11.0,1.0,0.0]          |[2.7111391791365347,4.417208799392533,0.21583519155108602,2.893927682992477,0.0,0.0,136.25997774168331,2.1273767864367805,2.0441726217887384,0.0]                                          |\n",
            "|[0.051,17529.0,200100.0,1.0,0.0,0.0,98.66,22.0,1.0,2.0]          |[0.15227764111890224,3.3653187171658425,0.4029541129816413,1.4469638414962385,0.0,0.0,135.91557379430265,4.254753572873561,2.0441726217887384,1.9010322302805522]                          |\n",
            "|[0.033,16075.0,122060.0,0.0,0.0,0.0,97.03,7.0,0.0,1.0]           |[0.09853259131223088,3.0861713947424794,0.2457999951551181,0.0,0.0,0.0,133.67006005738077,1.3537852277324967,0.0,0.9505161151402761]                                                       |\n",
            "|[1.0,16436.0,27290.0,1.0,0.0,1.0,98.32,4.0,0.0,0.0]              |[2.9858361003706326,3.1554782609012375,0.05495561091088951,1.4469638414962385,0.0,3.2067711025677443,135.44718442586495,0.7735915587042839,0.0,0.0]                                        |\n",
            "|(10,[0,1,2,6,7],[0.111,19723.0,136000.0,99.59,9.0])              |(10,[0,1,2,6,7],[0.33142780714114023,3.7865355159257184,0.27387186089706755,137.1967564785587,1.7405810070846388])                                                                         |\n",
            "|[0.027,16430.0,114110.0,0.0,0.0,1.0,98.7,13.0,0.0,3.0]           |[0.08061757471000708,3.1543263462282387,0.22979057387473806,0.0,0.0,3.2067711025677443,135.97067842588356,2.5141725657889227,0.0,2.851548345420828]                                        |\n",
            "|[0.963,12788.0,90140.0,1.0,0.0,0.0,99.06,9.0,0.0,0.0]            |[2.875360164656919,2.4551141397179985,0.18152065839162992,1.4469638414962385,0.0,0.0,136.4666201101117,1.7405810070846388,0.0,0.0]                                                         |\n",
            "|(10,[0,1,2,6,7],[0.055,23010.0,410310.0,99.66,10.0])             |(10,[0,1,2,6,7],[0.1642209855203848,4.417592770950199,0.8262673767990867,137.29318958382527,1.9339788967607097])                                                                           |\n",
            "|[0.125,22639.0,315110.0,0.0,0.0,0.0,99.31,14.0,1.0,0.0]          |[0.3732295125463291,4.34636604700311,0.6345570741711394,0.0,0.0,0.0,136.81102405749238,2.7075704554649933,2.0441726217887384,0.0]                                                          |\n",
            "|[0.012,16433.0,87530.0,0.0,0.0,0.0,99.06729119785139,5.0,1.0,0.0]|[0.035830033204447595,3.154902303564738,0.1762647351788259,0.0,0.0,0.0,136.4766645793963,0.9669894483803548,2.0441726217887384,0.0]                                                        |\n",
            "|[0.0,11687.0,152610.0,1.0,2.0,1.0,99.53,5.0,0.0,2.0]             |[0.0,2.243737797222728,0.30732047567280496,1.4469638414962385,4.584519613154683,3.2067711025677443,137.11409953118735,0.9669894483803548,0.0,1.9010322302805522]                           |\n",
            "+-----------------------------------------------------------------+-------------------------------------------------------------------------------------------------------------------------------------------------------------------------------------------+\n",
            "only showing top 20 rows\n",
            "\n"
          ]
        }
      ]
    },
    {
      "cell_type": "code",
      "source": [
        "output.select('scaled_features','target').show(10)"
      ],
      "metadata": {
        "colab": {
          "base_uri": "https://localhost:8080/"
        },
        "id": "od6d7Of9hKjm",
        "outputId": "666ab589-02dc-4056-a90e-b642b7a58a2b"
      },
      "execution_count": null,
      "outputs": [
        {
          "output_type": "stream",
          "name": "stdout",
          "text": [
            "+--------------------+------+\n",
            "|     scaled_features|target|\n",
            "+--------------------+------+\n",
            "|[1.28092368705900...|     1|\n",
            "|(10,[0,1,2,6,7],[...|     1|\n",
            "|[2.73801170403987...|     0|\n",
            "|(10,[0,1,2,6,7],[...|     1|\n",
            "|[0.15526347721927...|     1|\n",
            "|[1.61235149420014...|     1|\n",
            "|[2.98583610037063...|     1|\n",
            "|[2.98583610037063...|     0|\n",
            "|(10,[0,1,2,6,7],[...|     1|\n",
            "|[2.71113917913653...|     0|\n",
            "+--------------------+------+\n",
            "only showing top 10 rows\n",
            "\n"
          ]
        }
      ]
    },
    {
      "cell_type": "code",
      "source": [
        "model_df=output.select(['scaled_features','target'])"
      ],
      "metadata": {
        "id": "EDXKy9H3hQBf"
      },
      "execution_count": null,
      "outputs": []
    },
    {
      "cell_type": "code",
      "source": [
        "training_df,test_df=model_df.randomSplit([0.7,0.3])"
      ],
      "metadata": {
        "id": "0JQ_cms5hdG3"
      },
      "execution_count": null,
      "outputs": []
    },
    {
      "cell_type": "code",
      "source": [
        "print(training_df.count())\n",
        "print(test_df.count())"
      ],
      "metadata": {
        "colab": {
          "base_uri": "https://localhost:8080/"
        },
        "id": "lMvVAuR7hiqH",
        "outputId": "575fc529-df70-4154-fce2-6defd1127e43"
      },
      "execution_count": null,
      "outputs": [
        {
          "output_type": "stream",
          "name": "stdout",
          "text": [
            "55804\n",
            "24049\n"
          ]
        }
      ]
    },
    {
      "cell_type": "markdown",
      "source": [
        "###logistic regression\n"
      ],
      "metadata": {
        "id": "guYfZUBM1RDk"
      }
    },
    {
      "cell_type": "code",
      "source": [
        "from pyspark.ml.classification import LogisticRegression"
      ],
      "metadata": {
        "id": "9kbXFOTFho51"
      },
      "execution_count": null,
      "outputs": []
    },
    {
      "cell_type": "code",
      "source": [
        "log_reg=LogisticRegression(labelCol='target',featuresCol='scaled_features').fit(training_df)"
      ],
      "metadata": {
        "id": "yqfCp8PWhse8"
      },
      "execution_count": null,
      "outputs": []
    },
    {
      "cell_type": "code",
      "source": [
        "predictions = log_reg.transform(test_df)\n",
        "predictions.select('target', 'prediction', 'probability').show(10)"
      ],
      "metadata": {
        "colab": {
          "base_uri": "https://localhost:8080/"
        },
        "id": "0qFP8TiLikUY",
        "outputId": "bce1472d-eae0-493d-d2c1-b984ad8f9f44"
      },
      "execution_count": null,
      "outputs": [
        {
          "output_type": "stream",
          "name": "stdout",
          "text": [
            "+------+----------+--------------------+\n",
            "|target|prediction|         probability|\n",
            "+------+----------+--------------------+\n",
            "|     1|       1.0|[0.02374724740336...|\n",
            "|     1|       1.0|[0.02109687028257...|\n",
            "|     1|       1.0|[0.02137676212600...|\n",
            "|     1|       1.0|[0.02201645247211...|\n",
            "|     1|       1.0|[0.02035485681106...|\n",
            "|     1|       1.0|[0.02507500737207...|\n",
            "|     1|       1.0|[0.01784300428928...|\n",
            "|     1|       1.0|[0.02052270320040...|\n",
            "|     1|       1.0|[0.02339910796753...|\n",
            "|     1|       1.0|[0.01796489243319...|\n",
            "+------+----------+--------------------+\n",
            "only showing top 10 rows\n",
            "\n"
          ]
        }
      ]
    },
    {
      "cell_type": "code",
      "source": [
        "from pyspark.ml.evaluation import BinaryClassificationEvaluator\n",
        "\n",
        "# Initialize the evaluator\n",
        "evaluator = BinaryClassificationEvaluator(labelCol='target', rawPredictionCol='prediction')\n",
        "\n",
        "# Compute the AUC score\n",
        "auc = evaluator.evaluate(predictions)\n",
        "print(f\"AUC: {auc}\")\n"
      ],
      "metadata": {
        "colab": {
          "base_uri": "https://localhost:8080/"
        },
        "id": "zykYlseEjNRX",
        "outputId": "0a0980f8-65cb-4f7c-e497-f2c142889d4d"
      },
      "execution_count": null,
      "outputs": [
        {
          "output_type": "stream",
          "name": "stdout",
          "text": [
            "AUC: 0.5660877670271032\n"
          ]
        }
      ]
    },
    {
      "cell_type": "code",
      "source": [
        "from pyspark.ml.evaluation import BinaryClassificationEvaluator\n",
        "import matplotlib.pyplot as plt\n",
        "import numpy as np\n",
        "\n",
        "# Extract the ROC curve data\n",
        "roc = log_reg.summary.roc.toPandas()\n",
        "\n",
        "# Plot ROC Curve\n",
        "plt.figure(figsize=(8, 6))\n",
        "plt.plot(roc['FPR'], roc['TPR'], label='ROC curve for logistic regression')\n",
        "plt.plot([0, 1], [0, 1], 'k--', label='Random Classifier')\n",
        "plt.xlabel('False Positive Rate')\n",
        "plt.ylabel('True Positive Rate')\n",
        "plt.title('ROC Curve for logistic regression')\n",
        "plt.legend(loc='lower right')\n",
        "plt.show()\n"
      ],
      "metadata": {
        "colab": {
          "base_uri": "https://localhost:8080/",
          "height": 564
        },
        "id": "VF9tKYlmjTSO",
        "outputId": "7a4cb98d-df1d-4004-e912-0a956ab59632"
      },
      "execution_count": null,
      "outputs": [
        {
          "output_type": "display_data",
          "data": {
            "text/plain": [
              "<Figure size 800x600 with 1 Axes>"
            ],
            "image/png": "[encoded data removed]"
          },
          "metadata": {}
        }
      ]
    },
    {
      "cell_type": "code",
      "source": [
        "from pyspark.ml.evaluation import MulticlassClassificationEvaluator\n",
        "\n",
        "# Assuming predictions are already made and stored in the `predictions` DataFrame\n",
        "\n",
        "# Initialize evaluators for different metrics\n",
        "accuracy_evaluator = MulticlassClassificationEvaluator(labelCol=\"target\", predictionCol=\"prediction\", metricName=\"accuracy\")\n",
        "f1_evaluator = MulticlassClassificationEvaluator(labelCol=\"target\", predictionCol=\"prediction\", metricName=\"f1\")\n",
        "weighted_f1_evaluator = MulticlassClassificationEvaluator(labelCol=\"target\", predictionCol=\"prediction\", metricName=\"weightedFMeasure\")\n",
        "\n",
        "# Compute the metrics\n",
        "accuracy = accuracy_evaluator.evaluate(predictions)\n",
        "f1_score = f1_evaluator.evaluate(predictions)\n",
        "weighted_f1 = weighted_f1_evaluator.evaluate(predictions)\n",
        "\n",
        "# Print the metrics\n",
        "print(f\"Accuracy: {accuracy}\")\n",
        "print(f\"F1-Score: {f1_score}\")\n",
        "print(f\"Weighted F1-Score: {weighted_f1}\")"
      ],
      "metadata": {
        "colab": {
          "base_uri": "https://localhost:8080/"
        },
        "id": "7F7tvN8nj4Q3",
        "outputId": "b4893282-3115-47c5-aade-fb2c7da1b685"
      },
      "execution_count": null,
      "outputs": [
        {
          "output_type": "stream",
          "name": "stdout",
          "text": [
            "Accuracy: 0.9383342342716953\n",
            "F1-Score: 0.9207291656703331\n",
            "Weighted F1-Score: 0.9207291656703331\n"
          ]
        }
      ]
    },
    {
      "cell_type": "markdown",
      "source": [
        "###random forest"
      ],
      "metadata": {
        "id": "LemOqw-21aXq"
      }
    },
    {
      "cell_type": "code",
      "source": [
        "from pyspark.ml.classification import RandomForestClassifier\n",
        "\n",
        "\n",
        "# Initialize the Random Forest classifier\n",
        "rf = RandomForestClassifier(labelCol=\"target\", featuresCol=\"scaled_features\", numTrees=100)\n",
        "\n",
        "# Train the model\n",
        "rf_model = rf.fit(training_df)\n",
        "\n",
        "# Make predictions\n",
        "rf_predictions = rf_model.transform(test_df)\n",
        "\n",
        "# Evaluate the Random Forest model\n",
        "rf_accuracy = accuracy_evaluator.evaluate(rf_predictions)\n",
        "rf_f1 = f1_evaluator.evaluate(rf_predictions)\n",
        "\n",
        "\n",
        "# Print the Random Forest evaluation metrics\n",
        "print(f\"Random Forest Accuracy: {rf_accuracy}\")\n",
        "print(f\"Random Forest F1-Score: {rf_f1}\")\n",
        "\n"
      ],
      "metadata": {
        "colab": {
          "base_uri": "https://localhost:8080/"
        },
        "id": "tD0fLNXklC0R",
        "outputId": "c4cc9dd5-ee8a-4e8a-afe0-15a5888e4cb2"
      },
      "execution_count": null,
      "outputs": [
        {
          "output_type": "stream",
          "name": "stdout",
          "text": [
            "Random Forest Accuracy: 0.9388332155183168\n",
            "Random Forest F1-Score: 0.9159131277244983\n"
          ]
        }
      ]
    },
    {
      "cell_type": "code",
      "source": [
        "rf_predictions.select('target', 'prediction', 'probability').show(10)\n",
        "\n",
        "# Initialize the evaluator\n",
        "evaluator = BinaryClassificationEvaluator(labelCol='target', rawPredictionCol='prediction')\n",
        "\n",
        "# Compute the AUC score\n",
        "auc = evaluator.evaluate(rf_predictions)\n",
        "print(f\"AUC: {auc}\")\n",
        "\n",
        "# Extract the ROC curve data\n",
        "roc = rf_model.summary.roc.toPandas()\n",
        "\n",
        "# Plot ROC Curve\n",
        "plt.figure(figsize=(8, 6))\n",
        "plt.plot(roc['FPR'], roc['TPR'], label='ROC curve')\n",
        "plt.plot([0, 1], [0, 1], 'k--', label='Random Classifier')\n",
        "plt.xlabel('False Positive Rate')\n",
        "plt.ylabel('True Positive Rate')\n",
        "plt.title('ROC Curve for random forest')\n",
        "plt.legend(loc='lower right')\n",
        "plt.show()"
      ],
      "metadata": {
        "colab": {
          "base_uri": "https://localhost:8080/",
          "height": 859
        },
        "id": "BBOJ7_cClmBm",
        "outputId": "a37c2f0d-1873-4331-de9e-a27debaacd37"
      },
      "execution_count": null,
      "outputs": [
        {
          "output_type": "stream",
          "name": "stdout",
          "text": [
            "+------+----------+--------------------+\n",
            "|target|prediction|         probability|\n",
            "+------+----------+--------------------+\n",
            "|     1|       1.0|[0.03484397461047...|\n",
            "|     1|       1.0|[0.03484397461047...|\n",
            "|     1|       1.0|[0.03484397461047...|\n",
            "|     1|       1.0|[0.03484397461047...|\n",
            "|     1|       1.0|[0.03484397461047...|\n",
            "|     1|       1.0|[0.03619747062366...|\n",
            "|     1|       1.0|[0.03484397461047...|\n",
            "|     1|       1.0|[0.03484397461047...|\n",
            "|     1|       1.0|[0.03484397461047...|\n",
            "|     1|       1.0|[0.03484397461047...|\n",
            "+------+----------+--------------------+\n",
            "only showing top 10 rows\n",
            "\n",
            "AUC: 0.5381926649697971\n"
          ]
        },
        {
          "output_type": "display_data",
          "data": {
            "text/plain": [
              "<Figure size 800x600 with 1 Axes>"
            ],
            "image/png": "[encoded data removed]"
          },
          "metadata": {}
        }
      ]
    },
    {
      "cell_type": "markdown",
      "source": [
        "###decision tree"
      ],
      "metadata": {
        "id": "9SfIjbPY1mFG"
      }
    },
    {
      "cell_type": "code",
      "source": [
        "from pyspark.ml.classification import DecisionTreeClassifier\n",
        "\n",
        "# Initialize the Decision Tree classifier\n",
        "dt = DecisionTreeClassifier(labelCol=\"target\", featuresCol=\"scaled_features\")\n",
        "\n",
        "# Train the model\n",
        "dt_model = dt.fit(training_df)\n",
        "\n",
        "# Make predictions\n",
        "dt_predictions = dt_model.transform(test_df)\n",
        "\n",
        "# Evaluate the Decision Tree model\n",
        "dt_accuracy = accuracy_evaluator.evaluate(dt_predictions)\n",
        "dt_f1 = f1_evaluator.evaluate(dt_predictions)\n",
        "\n",
        "\n",
        "# Print the Decision Tree evaluation metrics\n",
        "print(f\"Decision Tree Accuracy: {dt_accuracy}\")\n",
        "print(f\"Decision Tree F1-Score: {dt_f1}\")"
      ],
      "metadata": {
        "colab": {
          "base_uri": "https://localhost:8080/"
        },
        "id": "PJ7xjMK-my14",
        "outputId": "de8bbfde-3a47-4c69-db51-6609ad796638"
      },
      "execution_count": null,
      "outputs": [
        {
          "output_type": "stream",
          "name": "stdout",
          "text": [
            "Decision Tree Accuracy: 0.9379184165661774\n",
            "Decision Tree F1-Score: 0.9203458831930572\n"
          ]
        }
      ]
    },
    {
      "cell_type": "code",
      "source": [
        "dt_predictions.select('target', 'prediction', 'probability').show(10)\n",
        "\n",
        "# Initialize the evaluator\n",
        "evaluator = BinaryClassificationEvaluator(labelCol='target', rawPredictionCol='prediction')\n",
        "\n",
        "# Compute the AUC score\n",
        "auc = evaluator.evaluate(dt_predictions)\n",
        "print(f\"AUC: {auc}\")"
      ],
      "metadata": {
        "colab": {
          "base_uri": "https://localhost:8080/"
        },
        "id": "ugsQhaFRm8gV",
        "outputId": "36ec4b8d-eca2-44cc-d832-e3ea3717c569"
      },
      "execution_count": null,
      "outputs": [
        {
          "output_type": "stream",
          "name": "stdout",
          "text": [
            "+------+----------+--------------------+\n",
            "|target|prediction|         probability|\n",
            "+------+----------+--------------------+\n",
            "|     1|       1.0|[0.04646609180253...|\n",
            "|     1|       1.0|[0.04646609180253...|\n",
            "|     1|       1.0|[0.04646609180253...|\n",
            "|     1|       1.0|[0.04646609180253...|\n",
            "|     1|       1.0|[0.04646609180253...|\n",
            "|     1|       1.0|[0.04646609180253...|\n",
            "|     1|       1.0|[0.04646609180253...|\n",
            "|     1|       1.0|[0.04646609180253...|\n",
            "|     1|       1.0|[0.04646609180253...|\n",
            "|     1|       1.0|[0.04646609180253...|\n",
            "+------+----------+--------------------+\n",
            "only showing top 10 rows\n",
            "\n",
            "AUC: 0.5652535956261879\n"
          ]
        }
      ]
    },
    {
      "cell_type": "markdown",
      "source": [
        "###Gradient-Boosted Tree"
      ],
      "metadata": {
        "id": "KNV-w53o1p7Z"
      }
    },
    {
      "cell_type": "code",
      "source": [
        "from pyspark.ml.classification import GBTClassifier\n",
        "\n",
        "# Initialize the Gradient-Boosted Tree classifier\n",
        "gbt = GBTClassifier(labelCol=\"target\", featuresCol=\"scaled_features\", maxIter=10)\n",
        "\n",
        "# Train the model\n",
        "gbt_model = gbt.fit(training_df)\n",
        "\n",
        "# Make predictions\n",
        "gbt_predictions = gbt_model.transform(test_df)\n",
        "\n",
        "# Evaluate the GBT model\n",
        "gbt_accuracy = accuracy_evaluator.evaluate(gbt_predictions)\n",
        "gbt_f1 = f1_evaluator.evaluate(gbt_predictions)\n",
        "\n",
        "# Print the GBT evaluation metrics\n",
        "print(f\"GBT Accuracy: {gbt_accuracy}\")\n",
        "print(f\"GBT F1-Score: {gbt_f1}\")"
      ],
      "metadata": {
        "colab": {
          "base_uri": "https://localhost:8080/"
        },
        "id": "DxCXa8gpnOwF",
        "outputId": "0fbfee3a-7812-4d11-e051-968e2c99f399"
      },
      "execution_count": null,
      "outputs": [
        {
          "output_type": "stream",
          "name": "stdout",
          "text": [
            "GBT Accuracy: 0.9384589795833507\n",
            "GBT F1-Score: 0.9190931399958547\n"
          ]
        }
      ]
    },
    {
      "cell_type": "code",
      "source": [
        "gbt_predictions.select('target', 'prediction', 'probability').show(10)\n",
        "\n",
        "# Initialize the evaluator\n",
        "evaluator = BinaryClassificationEvaluator(labelCol='target', rawPredictionCol='prediction')\n",
        "\n",
        "# Compute the AUC score\n",
        "auc = evaluator.evaluate(gbt_predictions)\n",
        "print(f\"AUC: {auc}\")"
      ],
      "metadata": {
        "colab": {
          "base_uri": "https://localhost:8080/"
        },
        "id": "-fWjaHAIqY-A",
        "outputId": "36b1f06a-f1c4-40a0-e34d-e6e279a7a80d"
      },
      "execution_count": null,
      "outputs": [
        {
          "output_type": "stream",
          "name": "stdout",
          "text": [
            "+------+----------+--------------------+\n",
            "|target|prediction|         probability|\n",
            "+------+----------+--------------------+\n",
            "|     1|       1.0|[0.07154378578305...|\n",
            "|     1|       1.0|[0.07154378578305...|\n",
            "|     1|       1.0|[0.07154378578305...|\n",
            "|     1|       1.0|[0.07154378578305...|\n",
            "|     1|       1.0|[0.07154378578305...|\n",
            "|     1|       1.0|[0.07928745268765...|\n",
            "|     1|       1.0|[0.07154378578305...|\n",
            "|     1|       1.0|[0.07154378578305...|\n",
            "|     1|       1.0|[0.07154378578305...|\n",
            "|     1|       1.0|[0.07154378578305...|\n",
            "+------+----------+--------------------+\n",
            "only showing top 10 rows\n",
            "\n",
            "AUC: 0.5560529631506577\n"
          ]
        }
      ]
    },
    {
      "cell_type": "markdown",
      "source": [
        "###Naive Bayes"
      ],
      "metadata": {
        "id": "3801BFKy1zk7"
      }
    },
    {
      "cell_type": "code",
      "source": [
        "from pyspark.ml.classification import NaiveBayes\n",
        "\n",
        "# Initialize the Naive Bayes classifier\n",
        "nb = NaiveBayes(labelCol=\"target\", featuresCol=\"scaled_features\")\n",
        "\n",
        "# Train the model\n",
        "nb_model = nb.fit(training_df)\n",
        "\n",
        "# Make predictions\n",
        "nb_predictions = nb_model.transform(test_df)\n",
        "\n",
        "# Evaluate the Naive Bayes model\n",
        "nb_accuracy = accuracy_evaluator.evaluate(nb_predictions)\n",
        "nb_f1 = f1_evaluator.evaluate(nb_predictions)\n",
        "\n",
        "\n",
        "# Print the Naive Bayes evaluation metrics\n",
        "print(f\"Naive Bayes Accuracy: {nb_accuracy}\")\n",
        "print(f\"Naive Bayes F1-Score: {nb_f1}\")\n"
      ],
      "metadata": {
        "colab": {
          "base_uri": "https://localhost:8080/"
        },
        "id": "UdJVUytnqc1c",
        "outputId": "77176e33-0e5f-45be-f305-2f4aa800025b"
      },
      "execution_count": null,
      "outputs": [
        {
          "output_type": "stream",
          "name": "stdout",
          "text": [
            "Naive Bayes Accuracy: 0.9084369412449582\n",
            "Naive Bayes F1-Score: 0.9147363176046545\n"
          ]
        }
      ]
    },
    {
      "cell_type": "code",
      "source": [
        "nb_predictions.select('target', 'prediction', 'probability').show(10)\n",
        "\n",
        "# Initialize the evaluator\n",
        "evaluator = BinaryClassificationEvaluator(labelCol='target', rawPredictionCol='prediction')\n",
        "\n",
        "# Compute the AUC score\n",
        "auc = evaluator.evaluate(nb_predictions)\n",
        "print(f\"AUC: {auc}\")"
      ],
      "metadata": {
        "colab": {
          "base_uri": "https://localhost:8080/"
        },
        "id": "ZPKDq5eWzBXJ",
        "outputId": "497c1faa-15c2-4f43-9c3d-17dbe9caf0bb"
      },
      "execution_count": null,
      "outputs": [
        {
          "output_type": "stream",
          "name": "stdout",
          "text": [
            "+------+----------+--------------------+\n",
            "|target|prediction|         probability|\n",
            "+------+----------+--------------------+\n",
            "|     1|       1.0|[0.00134819343766...|\n",
            "|     1|       1.0|[0.00131432770342...|\n",
            "|     1|       1.0|[0.00130007837450...|\n",
            "|     1|       1.0|[0.00118665677825...|\n",
            "|     1|       1.0|[0.00113934222695...|\n",
            "|     1|       1.0|[0.00108813776288...|\n",
            "|     1|       1.0|[0.00118903134468...|\n",
            "|     1|       1.0|[9.93254962377225...|\n",
            "|     1|       1.0|[8.24811279136619...|\n",
            "|     1|       1.0|[9.80610137122744...|\n",
            "+------+----------+--------------------+\n",
            "only showing top 10 rows\n",
            "\n",
            "AUC: 0.6961394840216447\n"
          ]
        }
      ]
    },
    {
      "cell_type": "markdown",
      "source": [
        "###SVM"
      ],
      "metadata": {
        "id": "9stOUVmn14Le"
      }
    },
    {
      "cell_type": "code",
      "source": [
        "from pyspark.ml.classification import LinearSVC\n",
        "\n",
        "# Initialize the Support Vector Machine classifier\n",
        "svm = LinearSVC(labelCol=\"target\", featuresCol=\"scaled_features\")\n",
        "\n",
        "# Train the model\n",
        "svm_model = svm.fit(training_df)\n",
        "\n",
        "# Make predictions\n",
        "svm_predictions = svm_model.transform(test_df)\n",
        "\n",
        "# Evaluate the SVM model\n",
        "svm_accuracy = accuracy_evaluator.evaluate(svm_predictions)\n",
        "svm_f1 = f1_evaluator.evaluate(svm_predictions)\n",
        "# svm_precision = precision_evaluator.evaluate(svm_predictions)\n",
        "# svm_recall = recall_evaluator.evaluate(svm_predictions)\n",
        "\n",
        "# Print the SVM evaluation metrics\n",
        "print(f\"SVM Accuracy: {svm_accuracy}\")\n",
        "print(f\"SVM F1-Score: {svm_f1}\")\n",
        "# print(f\"SVM Precision: {svm_precision}\")\n",
        "# print(f\"SVM Recall: {svm_recall}\")\n"
      ],
      "metadata": {
        "colab": {
          "base_uri": "https://localhost:8080/"
        },
        "id": "_fBsl4G6qpOx",
        "outputId": "d2793745-c9ea-4564-afba-39407364636d"
      },
      "execution_count": null,
      "outputs": [
        {
          "output_type": "stream",
          "name": "stdout",
          "text": [
            "SVM Accuracy: 0.9366709634496236\n",
            "SVM F1-Score: 0.9060418732223822\n"
          ]
        }
      ]
    },
    {
      "cell_type": "code",
      "source": [
        "# Initialize the evaluator\n",
        "evaluator = BinaryClassificationEvaluator(labelCol='target', rawPredictionCol='prediction')\n",
        "\n",
        "# Compute the AUC score\n",
        "auc = evaluator.evaluate(svm_predictions)\n",
        "print(f\"AUC: {auc}\")"
      ],
      "metadata": {
        "colab": {
          "base_uri": "https://localhost:8080/"
        },
        "id": "KuHlwTuIzF3O",
        "outputId": "d66f9bf2-5790-4e7a-ff78-5f9e4f4a2077"
      },
      "execution_count": null,
      "outputs": [
        {
          "output_type": "stream",
          "name": "stdout",
          "text": [
            "AUC: 0.5\n"
          ]
        }
      ]
    },
    {
      "cell_type": "markdown",
      "source": [
        "###ROC curves together"
      ],
      "metadata": {
        "id": "9s-pHgqC19L3"
      }
    },
    {
      "cell_type": "code",
      "source": [
        "from pyspark.ml.evaluation import BinaryClassificationEvaluator\n",
        "from sklearn.metrics import roc_curve\n",
        "import matplotlib.pyplot as plt\n",
        "import numpy as np\n",
        "\n",
        "# Function to evaluate predictions and compute metrics\n",
        "def evaluate_predictions(predictions, model_name):\n",
        "    evaluator = BinaryClassificationEvaluator(labelCol=\"target\", rawPredictionCol=\"probability\", metricName=\"areaUnderROC\")\n",
        "\n",
        "    # ROC AUC Score\n",
        "    roc_auc = evaluator.evaluate(predictions)\n",
        "    print(f\"{model_name} ROC AUC: {roc_auc}\")\n",
        "\n",
        "    # Extract labels and probabilities for ROC Curve\n",
        "    labels = predictions.select('target').rdd.flatMap(lambda x: x).collect()\n",
        "    probs = predictions.select('probability').rdd.flatMap(lambda x: x).collect()\n",
        "    positive_class_probs = [prob[1] for prob in probs]\n",
        "\n",
        "    return {\n",
        "        'roc_auc': roc_auc,\n",
        "        'labels': np.array(labels),\n",
        "        'positive_class_probs': np.array(positive_class_probs)\n",
        "    }\n",
        "\n",
        "# Initialize models and their predictions (replace with your variables)\n",
        "models_and_predictions = [\n",
        "    (\"Logistic Regression\", predictions),\n",
        "    (\"Decision Tree\", dt_predictions),\n",
        "    (\"Random Forest\", rf_predictions),\n",
        "    (\"Gradient-Boosted Tree\", gbt_predictions),\n",
        "    (\"Naive Bayes\", nb_predictions),\n",
        "    (\"SVM\", svm_predictions)\n",
        "]\n",
        "\n",
        "# Plot initialization\n",
        "plt.figure(figsize=(12, 8))\n",
        "\n",
        "# Iterate over predictions from each model\n",
        "for model_name, predictions in models_and_predictions:\n",
        "    results = evaluate_predictions(predictions, model_name)\n",
        "\n",
        "    # Compute ROC Curve\n",
        "    fpr, tpr, _ = roc_curve(results['labels'], results['positive_class_probs'])\n",
        "\n",
        "    # Plot ROC curve\n",
        "    plt.plot(fpr, tpr, label=f'{model_name} ROC AUC = {results[\"roc_auc\"]:.2f}')\n",
        "\n",
        "# General Plot Details\n",
        "plt.plot([0, 1], [0, 1], linestyle='--', label='Random Classifier')\n",
        "plt.xlabel('False Positive Rate')\n",
        "plt.ylabel('True Positive Rate')\n",
        "plt.title('ROC Curves for Various Classification Models')\n",
        "plt.legend(loc='lower right')\n",
        "\n",
        "# Show the plot\n",
        "plt.show()\n"
      ],
      "metadata": {
        "colab": {
          "base_uri": "https://localhost:8080/",
          "height": 425
        },
        "id": "1XXyhk2l0AEg",
        "outputId": "f352831d-b22d-4b17-b32c-bf4000a6c438"
      },
      "execution_count": null,
      "outputs": [
        {
          "output_type": "error",
          "ename": "IllegalArgumentException",
          "evalue": "probability does not exist. Available: scaled_features, target, rawPrediction, prediction",
          "traceback": [
            "\u001b[0;31m---------------------------------------------------------------------------\u001b[0m",
            "\u001b[0;31mIllegalArgumentException\u001b[0m                  Traceback (most recent call last)",
            "\u001b[0;32m<ipython-input-96-ad02d30b4142>\u001b[0m in \u001b[0;36m<cell line: 39>\u001b[0;34m()\u001b[0m\n\u001b[1;32m     38\u001b[0m \u001b[0;31m# Iterate over predictions from each model\u001b[0m\u001b[0;34m\u001b[0m\u001b[0;34m\u001b[0m\u001b[0m\n\u001b[1;32m     39\u001b[0m \u001b[0;32mfor\u001b[0m \u001b[0mmodel_name\u001b[0m\u001b[0;34m,\u001b[0m \u001b[0mpredictions\u001b[0m \u001b[0;32min\u001b[0m \u001b[0mmodels_and_predictions\u001b[0m\u001b[0;34m:\u001b[0m\u001b[0;34m\u001b[0m\u001b[0;34m\u001b[0m\u001b[0m\n\u001b[0;32m---> 40\u001b[0;31m     \u001b[0mresults\u001b[0m \u001b[0;34m=\u001b[0m \u001b[0mevaluate_predictions\u001b[0m\u001b[0;34m(\u001b[0m\u001b[0mpredictions\u001b[0m\u001b[0;34m,\u001b[0m \u001b[0mmodel_name\u001b[0m\u001b[0;34m)\u001b[0m\u001b[0;34m\u001b[0m\u001b[0;34m\u001b[0m\u001b[0m\n\u001b[0m\u001b[1;32m     41\u001b[0m \u001b[0;34m\u001b[0m\u001b[0m\n\u001b[1;32m     42\u001b[0m     \u001b[0;31m# Compute ROC Curve\u001b[0m\u001b[0;34m\u001b[0m\u001b[0;34m\u001b[0m\u001b[0m\n",
            "\u001b[0;32m<ipython-input-96-ad02d30b4142>\u001b[0m in \u001b[0;36mevaluate_predictions\u001b[0;34m(predictions, model_name)\u001b[0m\n\u001b[1;32m      9\u001b[0m \u001b[0;34m\u001b[0m\u001b[0m\n\u001b[1;32m     10\u001b[0m     \u001b[0;31m# ROC AUC Score\u001b[0m\u001b[0;34m\u001b[0m\u001b[0;34m\u001b[0m\u001b[0m\n\u001b[0;32m---> 11\u001b[0;31m     \u001b[0mroc_auc\u001b[0m \u001b[0;34m=\u001b[0m \u001b[0mevaluator\u001b[0m\u001b[0;34m.\u001b[0m\u001b[0mevaluate\u001b[0m\u001b[0;34m(\u001b[0m\u001b[0mpredictions\u001b[0m\u001b[0;34m)\u001b[0m\u001b[0;34m\u001b[0m\u001b[0;34m\u001b[0m\u001b[0m\n\u001b[0m\u001b[1;32m     12\u001b[0m     \u001b[0mprint\u001b[0m\u001b[0;34m(\u001b[0m\u001b[0;34mf\"{model_name} ROC AUC: {roc_auc}\"\u001b[0m\u001b[0;34m)\u001b[0m\u001b[0;34m\u001b[0m\u001b[0;34m\u001b[0m\u001b[0m\n\u001b[1;32m     13\u001b[0m \u001b[0;34m\u001b[0m\u001b[0m\n",
            "\u001b[0;32m/usr/local/lib/python3.10/dist-packages/pyspark/ml/evaluation.py\u001b[0m in \u001b[0;36mevaluate\u001b[0;34m(self, dataset, params)\u001b[0m\n\u001b[1;32m    109\u001b[0m                 \u001b[0;32mreturn\u001b[0m \u001b[0mself\u001b[0m\u001b[0;34m.\u001b[0m\u001b[0mcopy\u001b[0m\u001b[0;34m(\u001b[0m\u001b[0mparams\u001b[0m\u001b[0;34m)\u001b[0m\u001b[0;34m.\u001b[0m\u001b[0m_evaluate\u001b[0m\u001b[0;34m(\u001b[0m\u001b[0mdataset\u001b[0m\u001b[0;34m)\u001b[0m\u001b[0;34m\u001b[0m\u001b[0;34m\u001b[0m\u001b[0m\n\u001b[1;32m    110\u001b[0m             \u001b[0;32melse\u001b[0m\u001b[0;34m:\u001b[0m\u001b[0;34m\u001b[0m\u001b[0;34m\u001b[0m\u001b[0m\n\u001b[0;32m--> 111\u001b[0;31m                 \u001b[0;32mreturn\u001b[0m \u001b[0mself\u001b[0m\u001b[0;34m.\u001b[0m\u001b[0m_evaluate\u001b[0m\u001b[0;34m(\u001b[0m\u001b[0mdataset\u001b[0m\u001b[0;34m)\u001b[0m\u001b[0;34m\u001b[0m\u001b[0;34m\u001b[0m\u001b[0m\n\u001b[0m\u001b[1;32m    112\u001b[0m         \u001b[0;32melse\u001b[0m\u001b[0;34m:\u001b[0m\u001b[0;34m\u001b[0m\u001b[0;34m\u001b[0m\u001b[0m\n\u001b[1;32m    113\u001b[0m             \u001b[0;32mraise\u001b[0m \u001b[0mTypeError\u001b[0m\u001b[0;34m(\u001b[0m\u001b[0;34m\"Params must be a param map but got %s.\"\u001b[0m \u001b[0;34m%\u001b[0m \u001b[0mtype\u001b[0m\u001b[0;34m(\u001b[0m\u001b[0mparams\u001b[0m\u001b[0;34m)\u001b[0m\u001b[0;34m)\u001b[0m\u001b[0;34m\u001b[0m\u001b[0;34m\u001b[0m\u001b[0m\n",
            "\u001b[0;32m/usr/local/lib/python3.10/dist-packages/pyspark/ml/evaluation.py\u001b[0m in \u001b[0;36m_evaluate\u001b[0;34m(self, dataset)\u001b[0m\n\u001b[1;32m    146\u001b[0m         \u001b[0mself\u001b[0m\u001b[0;34m.\u001b[0m\u001b[0m_transfer_params_to_java\u001b[0m\u001b[0;34m(\u001b[0m\u001b[0;34m)\u001b[0m\u001b[0;34m\u001b[0m\u001b[0;34m\u001b[0m\u001b[0m\n\u001b[1;32m    147\u001b[0m         \u001b[0;32massert\u001b[0m \u001b[0mself\u001b[0m\u001b[0;34m.\u001b[0m\u001b[0m_java_obj\u001b[0m \u001b[0;32mis\u001b[0m \u001b[0;32mnot\u001b[0m \u001b[0;32mNone\u001b[0m\u001b[0;34m\u001b[0m\u001b[0;34m\u001b[0m\u001b[0m\n\u001b[0;32m--> 148\u001b[0;31m         \u001b[0;32mreturn\u001b[0m \u001b[0mself\u001b[0m\u001b[0;34m.\u001b[0m\u001b[0m_java_obj\u001b[0m\u001b[0;34m.\u001b[0m\u001b[0mevaluate\u001b[0m\u001b[0;34m(\u001b[0m\u001b[0mdataset\u001b[0m\u001b[0;34m.\u001b[0m\u001b[0m_jdf\u001b[0m\u001b[0;34m)\u001b[0m\u001b[0;34m\u001b[0m\u001b[0;34m\u001b[0m\u001b[0m\n\u001b[0m\u001b[1;32m    149\u001b[0m \u001b[0;34m\u001b[0m\u001b[0m\n\u001b[1;32m    150\u001b[0m     \u001b[0;32mdef\u001b[0m \u001b[0misLargerBetter\u001b[0m\u001b[0;34m(\u001b[0m\u001b[0mself\u001b[0m\u001b[0;34m)\u001b[0m \u001b[0;34m->\u001b[0m \u001b[0mbool\u001b[0m\u001b[0;34m:\u001b[0m\u001b[0;34m\u001b[0m\u001b[0;34m\u001b[0m\u001b[0m\n",
            "\u001b[0;32m/usr/local/lib/python3.10/dist-packages/py4j/java_gateway.py\u001b[0m in \u001b[0;36m__call__\u001b[0;34m(self, *args)\u001b[0m\n\u001b[1;32m   1320\u001b[0m \u001b[0;34m\u001b[0m\u001b[0m\n\u001b[1;32m   1321\u001b[0m         \u001b[0manswer\u001b[0m \u001b[0;34m=\u001b[0m \u001b[0mself\u001b[0m\u001b[0;34m.\u001b[0m\u001b[0mgateway_client\u001b[0m\u001b[0;34m.\u001b[0m\u001b[0msend_command\u001b[0m\u001b[0;34m(\u001b[0m\u001b[0mcommand\u001b[0m\u001b[0;34m)\u001b[0m\u001b[0;34m\u001b[0m\u001b[0;34m\u001b[0m\u001b[0m\n\u001b[0;32m-> 1322\u001b[0;31m         return_value = get_return_value(\n\u001b[0m\u001b[1;32m   1323\u001b[0m             answer, self.gateway_client, self.target_id, self.name)\n\u001b[1;32m   1324\u001b[0m \u001b[0;34m\u001b[0m\u001b[0m\n",
            "\u001b[0;32m/usr/local/lib/python3.10/dist-packages/pyspark/errors/exceptions/captured.py\u001b[0m in \u001b[0;36mdeco\u001b[0;34m(*a, **kw)\u001b[0m\n\u001b[1;32m    183\u001b[0m                 \u001b[0;31m# Hide where the exception came from that shows a non-Pythonic\u001b[0m\u001b[0;34m\u001b[0m\u001b[0;34m\u001b[0m\u001b[0m\n\u001b[1;32m    184\u001b[0m                 \u001b[0;31m# JVM exception message.\u001b[0m\u001b[0;34m\u001b[0m\u001b[0;34m\u001b[0m\u001b[0m\n\u001b[0;32m--> 185\u001b[0;31m                 \u001b[0;32mraise\u001b[0m \u001b[0mconverted\u001b[0m \u001b[0;32mfrom\u001b[0m \u001b[0;32mNone\u001b[0m\u001b[0;34m\u001b[0m\u001b[0;34m\u001b[0m\u001b[0m\n\u001b[0m\u001b[1;32m    186\u001b[0m             \u001b[0;32melse\u001b[0m\u001b[0;34m:\u001b[0m\u001b[0;34m\u001b[0m\u001b[0;34m\u001b[0m\u001b[0m\n\u001b[1;32m    187\u001b[0m                 \u001b[0;32mraise\u001b[0m\u001b[0;34m\u001b[0m\u001b[0;34m\u001b[0m\u001b[0m\n",
            "\u001b[0;31mIllegalArgumentException\u001b[0m: probability does not exist. Available: scaled_features, target, rawPrediction, prediction"
          ]
        },
        {
          "output_type": "display_data",
          "data": {
            "text/plain": [
              "<Figure size 1200x800 with 0 Axes>"
            ]
          },
          "metadata": {}
        }
      ]
    }
  ]
}